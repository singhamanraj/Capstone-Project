{
 "cells": [
  {
   "cell_type": "code",
   "execution_count": null,
   "metadata": {
    "scrolled": true
   },
   "outputs": [
    {
     "name": "stdout",
     "output_type": "stream",
     "text": [
      "Collecting xgboost\n",
      "\u001b[?25l  Downloading https://files.pythonhosted.org/packages/2e/bd/ad3a963b630fa3ee72d1a672fd207263fa0a18113688273afe8298293535/xgboost-0.82.tar.gz (665kB)\n",
      "\u001b[K     |████████████████████████████████| 675kB 4.5MB/s eta 0:00:01\n",
      "\u001b[?25hRequirement already satisfied: numpy in /Users/amanrajsingh/anaconda3/lib/python3.7/site-packages (from xgboost) (1.15.4)\n",
      "Requirement already satisfied: scipy in /Users/amanrajsingh/anaconda3/lib/python3.7/site-packages (from xgboost) (1.1.0)\n",
      "Building wheels for collected packages: xgboost\n",
      "  Building wheel for xgboost (setup.py) ... \u001b[?25l-"
     ]
    }
   ],
   "source": [
    "!pip install xgboost"
   ]
  },
  {
   "cell_type": "code",
   "execution_count": null,
   "metadata": {},
   "outputs": [],
   "source": [
    "import pandas as pd\n",
    "import numpy as np\n",
    "\n",
    "import matplotlib.pyplot as plt\n",
    "import matplotlib.gridspec as gridspec\n",
    "import seaborn as sns\n",
    "import plotly.graph_objs as go\n",
    "from plotly import tools\n",
    "import plotly.plotly as py\n",
    "from plotly.plotly import iplot\n",
    "import seaborn as sns\n",
    "\n",
    "from textwrap import wrap\n",
    "from datetime import date, timedelta\n",
    "\n",
    "from sklearn.model_selection import train_test_split\n",
    "from sklearn.ensemble import RandomForestClassifier"
   ]
  },
  {
   "cell_type": "code",
   "execution_count": 119,
   "metadata": {},
   "outputs": [],
   "source": [
    "col_names = ['video_id','title','channel_title','category_id','tags','views','likes','dislikes','comment_total','thumbnail_link','date']\n",
    "\n",
    "video_data = pd.read_csv('USvideos.csv',usecols = col_names)"
   ]
  },
  {
   "cell_type": "code",
   "execution_count": 120,
   "metadata": {},
   "outputs": [
    {
     "data": {
      "text/html": [
       "<div>\n",
       "<style scoped>\n",
       "    .dataframe tbody tr th:only-of-type {\n",
       "        vertical-align: middle;\n",
       "    }\n",
       "\n",
       "    .dataframe tbody tr th {\n",
       "        vertical-align: top;\n",
       "    }\n",
       "\n",
       "    .dataframe thead th {\n",
       "        text-align: right;\n",
       "    }\n",
       "</style>\n",
       "<table border=\"1\" class=\"dataframe\">\n",
       "  <thead>\n",
       "    <tr style=\"text-align: right;\">\n",
       "      <th></th>\n",
       "      <th>video_id</th>\n",
       "      <th>title</th>\n",
       "      <th>channel_title</th>\n",
       "      <th>category_id</th>\n",
       "      <th>tags</th>\n",
       "      <th>views</th>\n",
       "      <th>likes</th>\n",
       "      <th>dislikes</th>\n",
       "      <th>comment_total</th>\n",
       "      <th>thumbnail_link</th>\n",
       "      <th>date</th>\n",
       "    </tr>\n",
       "  </thead>\n",
       "  <tbody>\n",
       "    <tr>\n",
       "      <th>0</th>\n",
       "      <td>XpVt6Z1Gjjo</td>\n",
       "      <td>1 YEAR OF VLOGGING -- HOW LOGAN PAUL CHANGED Y...</td>\n",
       "      <td>Logan Paul Vlogs</td>\n",
       "      <td>24</td>\n",
       "      <td>logan paul vlog|logan paul|logan|paul|olympics...</td>\n",
       "      <td>4394029</td>\n",
       "      <td>320053</td>\n",
       "      <td>5931</td>\n",
       "      <td>46245</td>\n",
       "      <td>https://i.ytimg.com/vi/XpVt6Z1Gjjo/default.jpg</td>\n",
       "      <td>13.09</td>\n",
       "    </tr>\n",
       "    <tr>\n",
       "      <th>1</th>\n",
       "      <td>K4wEI5zhHB0</td>\n",
       "      <td>iPhone X — Introducing iPhone X — Apple</td>\n",
       "      <td>Apple</td>\n",
       "      <td>28</td>\n",
       "      <td>Apple|iPhone 10|iPhone Ten|iPhone|Portrait Lig...</td>\n",
       "      <td>7860119</td>\n",
       "      <td>185853</td>\n",
       "      <td>26679</td>\n",
       "      <td>0</td>\n",
       "      <td>https://i.ytimg.com/vi/K4wEI5zhHB0/default.jpg</td>\n",
       "      <td>13.09</td>\n",
       "    </tr>\n",
       "    <tr>\n",
       "      <th>2</th>\n",
       "      <td>cLdxuaxaQwc</td>\n",
       "      <td>My Response</td>\n",
       "      <td>PewDiePie</td>\n",
       "      <td>22</td>\n",
       "      <td>[none]</td>\n",
       "      <td>5845909</td>\n",
       "      <td>576597</td>\n",
       "      <td>39774</td>\n",
       "      <td>170708</td>\n",
       "      <td>https://i.ytimg.com/vi/cLdxuaxaQwc/default.jpg</td>\n",
       "      <td>13.09</td>\n",
       "    </tr>\n",
       "  </tbody>\n",
       "</table>\n",
       "</div>"
      ],
      "text/plain": [
       "      video_id                                              title  \\\n",
       "0  XpVt6Z1Gjjo  1 YEAR OF VLOGGING -- HOW LOGAN PAUL CHANGED Y...   \n",
       "1  K4wEI5zhHB0            iPhone X — Introducing iPhone X — Apple   \n",
       "2  cLdxuaxaQwc                                        My Response   \n",
       "\n",
       "      channel_title  category_id  \\\n",
       "0  Logan Paul Vlogs           24   \n",
       "1             Apple           28   \n",
       "2         PewDiePie           22   \n",
       "\n",
       "                                                tags    views   likes  \\\n",
       "0  logan paul vlog|logan paul|logan|paul|olympics...  4394029  320053   \n",
       "1  Apple|iPhone 10|iPhone Ten|iPhone|Portrait Lig...  7860119  185853   \n",
       "2                                             [none]  5845909  576597   \n",
       "\n",
       "   dislikes  comment_total                                  thumbnail_link  \\\n",
       "0      5931          46245  https://i.ytimg.com/vi/XpVt6Z1Gjjo/default.jpg   \n",
       "1     26679              0  https://i.ytimg.com/vi/K4wEI5zhHB0/default.jpg   \n",
       "2     39774         170708  https://i.ytimg.com/vi/cLdxuaxaQwc/default.jpg   \n",
       "\n",
       "    date  \n",
       "0  13.09  \n",
       "1  13.09  \n",
       "2  13.09  "
      ]
     },
     "execution_count": 120,
     "metadata": {},
     "output_type": "execute_result"
    }
   ],
   "source": [
    "video_data.head(3)"
   ]
  },
  {
   "cell_type": "code",
   "execution_count": 121,
   "metadata": {},
   "outputs": [
    {
     "data": {
      "text/plain": [
       "video_id          0\n",
       "title             0\n",
       "channel_title     0\n",
       "category_id       0\n",
       "tags              0\n",
       "views             0\n",
       "likes             0\n",
       "dislikes          0\n",
       "comment_total     0\n",
       "thumbnail_link    0\n",
       "date              0\n",
       "dtype: int64"
      ]
     },
     "execution_count": 121,
     "metadata": {},
     "output_type": "execute_result"
    }
   ],
   "source": [
    "video_data.isna().sum()"
   ]
  },
  {
   "cell_type": "code",
   "execution_count": 122,
   "metadata": {},
   "outputs": [
    {
     "data": {
      "text/plain": [
       "array(['13.09', '14.09', '15.09', '16.09', '17.09', '18.09', '19.09',\n",
       "       '20.09', '21.09', '22.09', '23.09', '24.09', '25.09', '26.09',\n",
       "       '26.0903jeumSTSzc', '27.09', '28.09', '29.09', '30.09', '1.1',\n",
       "       '2.1', '3.1', '4.1', '5.1', '6.1', '7.1', '8.1', '9.1', '100',\n",
       "       '10.1', '11.1', '12.1', '13.1', '14.1', '15.1', '16.1', '17.1',\n",
       "       '18.1', '19.1', '20.1', '21.1', '22.1'], dtype=object)"
      ]
     },
     "execution_count": 122,
     "metadata": {},
     "output_type": "execute_result"
    }
   ],
   "source": [
    "video_data['date'].unique()\n"
   ]
  },
  {
   "cell_type": "code",
   "execution_count": 123,
   "metadata": {},
   "outputs": [],
   "source": [
    "#Replacing incorrect date values\n",
    "\n",
    "video_data.loc[video_data['date'] == '26.0903jeumSTSzc', 'date'] = '26.09'\n",
    "video_data.loc[video_data['date'] == '100', 'date'] = '9.1'\n"
   ]
  },
  {
   "cell_type": "code",
   "execution_count": 124,
   "metadata": {},
   "outputs": [
    {
     "data": {
      "text/plain": [
       "array(['13.09', '14.09', '15.09', '16.09', '17.09', '18.09', '19.09',\n",
       "       '20.09', '21.09', '22.09', '23.09', '24.09', '25.09', '26.09',\n",
       "       '27.09', '28.09', '29.09', '30.09', '1.1', '2.1', '3.1', '4.1',\n",
       "       '5.1', '6.1', '7.1', '8.1', '9.1', '10.1', '11.1', '12.1', '13.1',\n",
       "       '14.1', '15.1', '16.1', '17.1', '18.1', '19.1', '20.1', '21.1',\n",
       "       '22.1'], dtype=object)"
      ]
     },
     "execution_count": 124,
     "metadata": {},
     "output_type": "execute_result"
    }
   ],
   "source": [
    "video_data['date'].unique()"
   ]
  },
  {
   "cell_type": "code",
   "execution_count": 125,
   "metadata": {},
   "outputs": [],
   "source": [
    "#Changing the format of date\n",
    "\n",
    "video_data['date'] = video_data['date'].apply(lambda x: pd.to_datetime(str(x).replace('.','')+\"2017\",\n",
    "                                                                     format='%d%m%Y'))\n",
    "video_data['date'] = video_data['date'].dt.date"
   ]
  },
  {
   "cell_type": "code",
   "execution_count": 126,
   "metadata": {
    "scrolled": true
   },
   "outputs": [
    {
     "data": {
      "text/html": [
       "<div>\n",
       "<style scoped>\n",
       "    .dataframe tbody tr th:only-of-type {\n",
       "        vertical-align: middle;\n",
       "    }\n",
       "\n",
       "    .dataframe tbody tr th {\n",
       "        vertical-align: top;\n",
       "    }\n",
       "\n",
       "    .dataframe thead th {\n",
       "        text-align: right;\n",
       "    }\n",
       "</style>\n",
       "<table border=\"1\" class=\"dataframe\">\n",
       "  <thead>\n",
       "    <tr style=\"text-align: right;\">\n",
       "      <th></th>\n",
       "      <th>video_id</th>\n",
       "      <th>title</th>\n",
       "      <th>channel_title</th>\n",
       "      <th>category_id</th>\n",
       "      <th>tags</th>\n",
       "      <th>views</th>\n",
       "      <th>likes</th>\n",
       "      <th>dislikes</th>\n",
       "      <th>comment_total</th>\n",
       "      <th>thumbnail_link</th>\n",
       "      <th>date</th>\n",
       "    </tr>\n",
       "  </thead>\n",
       "  <tbody>\n",
       "    <tr>\n",
       "      <th>0</th>\n",
       "      <td>XpVt6Z1Gjjo</td>\n",
       "      <td>1 YEAR OF VLOGGING -- HOW LOGAN PAUL CHANGED Y...</td>\n",
       "      <td>Logan Paul Vlogs</td>\n",
       "      <td>24</td>\n",
       "      <td>logan paul vlog|logan paul|logan|paul|olympics...</td>\n",
       "      <td>4394029</td>\n",
       "      <td>320053</td>\n",
       "      <td>5931</td>\n",
       "      <td>46245</td>\n",
       "      <td>https://i.ytimg.com/vi/XpVt6Z1Gjjo/default.jpg</td>\n",
       "      <td>2017-09-13</td>\n",
       "    </tr>\n",
       "    <tr>\n",
       "      <th>1</th>\n",
       "      <td>K4wEI5zhHB0</td>\n",
       "      <td>iPhone X — Introducing iPhone X — Apple</td>\n",
       "      <td>Apple</td>\n",
       "      <td>28</td>\n",
       "      <td>Apple|iPhone 10|iPhone Ten|iPhone|Portrait Lig...</td>\n",
       "      <td>7860119</td>\n",
       "      <td>185853</td>\n",
       "      <td>26679</td>\n",
       "      <td>0</td>\n",
       "      <td>https://i.ytimg.com/vi/K4wEI5zhHB0/default.jpg</td>\n",
       "      <td>2017-09-13</td>\n",
       "    </tr>\n",
       "    <tr>\n",
       "      <th>2</th>\n",
       "      <td>cLdxuaxaQwc</td>\n",
       "      <td>My Response</td>\n",
       "      <td>PewDiePie</td>\n",
       "      <td>22</td>\n",
       "      <td>[none]</td>\n",
       "      <td>5845909</td>\n",
       "      <td>576597</td>\n",
       "      <td>39774</td>\n",
       "      <td>170708</td>\n",
       "      <td>https://i.ytimg.com/vi/cLdxuaxaQwc/default.jpg</td>\n",
       "      <td>2017-09-13</td>\n",
       "    </tr>\n",
       "    <tr>\n",
       "      <th>3</th>\n",
       "      <td>WYYvHb03Eog</td>\n",
       "      <td>Apple iPhone X first look</td>\n",
       "      <td>The Verge</td>\n",
       "      <td>28</td>\n",
       "      <td>apple iphone x hands on|Apple iPhone X|iPhone ...</td>\n",
       "      <td>2642103</td>\n",
       "      <td>24975</td>\n",
       "      <td>4542</td>\n",
       "      <td>12829</td>\n",
       "      <td>https://i.ytimg.com/vi/WYYvHb03Eog/default.jpg</td>\n",
       "      <td>2017-09-13</td>\n",
       "    </tr>\n",
       "    <tr>\n",
       "      <th>4</th>\n",
       "      <td>sjlHnJvXdQs</td>\n",
       "      <td>iPhone X (parody)</td>\n",
       "      <td>jacksfilms</td>\n",
       "      <td>23</td>\n",
       "      <td>jacksfilms|parody|parodies|iphone|iphone x|iph...</td>\n",
       "      <td>1168130</td>\n",
       "      <td>96666</td>\n",
       "      <td>568</td>\n",
       "      <td>6666</td>\n",
       "      <td>https://i.ytimg.com/vi/sjlHnJvXdQs/default.jpg</td>\n",
       "      <td>2017-09-13</td>\n",
       "    </tr>\n",
       "  </tbody>\n",
       "</table>\n",
       "</div>"
      ],
      "text/plain": [
       "      video_id                                              title  \\\n",
       "0  XpVt6Z1Gjjo  1 YEAR OF VLOGGING -- HOW LOGAN PAUL CHANGED Y...   \n",
       "1  K4wEI5zhHB0            iPhone X — Introducing iPhone X — Apple   \n",
       "2  cLdxuaxaQwc                                        My Response   \n",
       "3  WYYvHb03Eog                          Apple iPhone X first look   \n",
       "4  sjlHnJvXdQs                                  iPhone X (parody)   \n",
       "\n",
       "      channel_title  category_id  \\\n",
       "0  Logan Paul Vlogs           24   \n",
       "1             Apple           28   \n",
       "2         PewDiePie           22   \n",
       "3         The Verge           28   \n",
       "4        jacksfilms           23   \n",
       "\n",
       "                                                tags    views   likes  \\\n",
       "0  logan paul vlog|logan paul|logan|paul|olympics...  4394029  320053   \n",
       "1  Apple|iPhone 10|iPhone Ten|iPhone|Portrait Lig...  7860119  185853   \n",
       "2                                             [none]  5845909  576597   \n",
       "3  apple iphone x hands on|Apple iPhone X|iPhone ...  2642103   24975   \n",
       "4  jacksfilms|parody|parodies|iphone|iphone x|iph...  1168130   96666   \n",
       "\n",
       "   dislikes  comment_total                                  thumbnail_link  \\\n",
       "0      5931          46245  https://i.ytimg.com/vi/XpVt6Z1Gjjo/default.jpg   \n",
       "1     26679              0  https://i.ytimg.com/vi/K4wEI5zhHB0/default.jpg   \n",
       "2     39774         170708  https://i.ytimg.com/vi/cLdxuaxaQwc/default.jpg   \n",
       "3      4542          12829  https://i.ytimg.com/vi/WYYvHb03Eog/default.jpg   \n",
       "4       568           6666  https://i.ytimg.com/vi/sjlHnJvXdQs/default.jpg   \n",
       "\n",
       "         date  \n",
       "0  2017-09-13  \n",
       "1  2017-09-13  \n",
       "2  2017-09-13  \n",
       "3  2017-09-13  \n",
       "4  2017-09-13  "
      ]
     },
     "execution_count": 126,
     "metadata": {},
     "output_type": "execute_result"
    }
   ],
   "source": [
    "video_data.head()"
   ]
  },
  {
   "cell_type": "code",
   "execution_count": 127,
   "metadata": {},
   "outputs": [
    {
     "data": {
      "text/plain": [
       "(7998, 11)"
      ]
     },
     "execution_count": 127,
     "metadata": {},
     "output_type": "execute_result"
    }
   ],
   "source": [
    "video_data.shape"
   ]
  },
  {
   "cell_type": "code",
   "execution_count": 128,
   "metadata": {},
   "outputs": [
    {
     "data": {
      "text/plain": [
       "(7998, 11)"
      ]
     },
     "execution_count": 128,
     "metadata": {},
     "output_type": "execute_result"
    }
   ],
   "source": [
    "video_data.drop_duplicates()\n",
    "video_data.shape"
   ]
  },
  {
   "cell_type": "code",
   "execution_count": 129,
   "metadata": {},
   "outputs": [
    {
     "data": {
      "text/html": [
       "<div>\n",
       "<style scoped>\n",
       "    .dataframe tbody tr th:only-of-type {\n",
       "        vertical-align: middle;\n",
       "    }\n",
       "\n",
       "    .dataframe tbody tr th {\n",
       "        vertical-align: top;\n",
       "    }\n",
       "\n",
       "    .dataframe thead th {\n",
       "        text-align: right;\n",
       "    }\n",
       "</style>\n",
       "<table border=\"1\" class=\"dataframe\">\n",
       "  <thead>\n",
       "    <tr style=\"text-align: right;\">\n",
       "      <th></th>\n",
       "      <th>video_id</th>\n",
       "      <th>title</th>\n",
       "      <th>channel_title</th>\n",
       "      <th>category_id</th>\n",
       "      <th>tags</th>\n",
       "      <th>views</th>\n",
       "      <th>likes</th>\n",
       "      <th>dislikes</th>\n",
       "      <th>comment_total</th>\n",
       "      <th>thumbnail_link</th>\n",
       "      <th>date</th>\n",
       "    </tr>\n",
       "  </thead>\n",
       "  <tbody>\n",
       "    <tr>\n",
       "      <th>0</th>\n",
       "      <td>XpVt6Z1Gjjo</td>\n",
       "      <td>1 YEAR OF VLOGGING -- HOW LOGAN PAUL CHANGED Y...</td>\n",
       "      <td>Logan Paul Vlogs</td>\n",
       "      <td>24</td>\n",
       "      <td>logan paul vlog|logan paul|logan|paul|olympics...</td>\n",
       "      <td>4394029</td>\n",
       "      <td>320053</td>\n",
       "      <td>5931</td>\n",
       "      <td>46245</td>\n",
       "      <td>https://i.ytimg.com/vi/XpVt6Z1Gjjo/default.jpg</td>\n",
       "      <td>2017-09-13</td>\n",
       "    </tr>\n",
       "    <tr>\n",
       "      <th>1</th>\n",
       "      <td>K4wEI5zhHB0</td>\n",
       "      <td>iPhone X — Introducing iPhone X — Apple</td>\n",
       "      <td>Apple</td>\n",
       "      <td>28</td>\n",
       "      <td>Apple|iPhone 10|iPhone Ten|iPhone|Portrait Lig...</td>\n",
       "      <td>7860119</td>\n",
       "      <td>185853</td>\n",
       "      <td>26679</td>\n",
       "      <td>0</td>\n",
       "      <td>https://i.ytimg.com/vi/K4wEI5zhHB0/default.jpg</td>\n",
       "      <td>2017-09-13</td>\n",
       "    </tr>\n",
       "    <tr>\n",
       "      <th>2</th>\n",
       "      <td>cLdxuaxaQwc</td>\n",
       "      <td>My Response</td>\n",
       "      <td>PewDiePie</td>\n",
       "      <td>22</td>\n",
       "      <td>[none]</td>\n",
       "      <td>5845909</td>\n",
       "      <td>576597</td>\n",
       "      <td>39774</td>\n",
       "      <td>170708</td>\n",
       "      <td>https://i.ytimg.com/vi/cLdxuaxaQwc/default.jpg</td>\n",
       "      <td>2017-09-13</td>\n",
       "    </tr>\n",
       "    <tr>\n",
       "      <th>3</th>\n",
       "      <td>WYYvHb03Eog</td>\n",
       "      <td>Apple iPhone X first look</td>\n",
       "      <td>The Verge</td>\n",
       "      <td>28</td>\n",
       "      <td>apple iphone x hands on|Apple iPhone X|iPhone ...</td>\n",
       "      <td>2642103</td>\n",
       "      <td>24975</td>\n",
       "      <td>4542</td>\n",
       "      <td>12829</td>\n",
       "      <td>https://i.ytimg.com/vi/WYYvHb03Eog/default.jpg</td>\n",
       "      <td>2017-09-13</td>\n",
       "    </tr>\n",
       "    <tr>\n",
       "      <th>4</th>\n",
       "      <td>sjlHnJvXdQs</td>\n",
       "      <td>iPhone X (parody)</td>\n",
       "      <td>jacksfilms</td>\n",
       "      <td>23</td>\n",
       "      <td>jacksfilms|parody|parodies|iphone|iphone x|iph...</td>\n",
       "      <td>1168130</td>\n",
       "      <td>96666</td>\n",
       "      <td>568</td>\n",
       "      <td>6666</td>\n",
       "      <td>https://i.ytimg.com/vi/sjlHnJvXdQs/default.jpg</td>\n",
       "      <td>2017-09-13</td>\n",
       "    </tr>\n",
       "  </tbody>\n",
       "</table>\n",
       "</div>"
      ],
      "text/plain": [
       "      video_id                                              title  \\\n",
       "0  XpVt6Z1Gjjo  1 YEAR OF VLOGGING -- HOW LOGAN PAUL CHANGED Y...   \n",
       "1  K4wEI5zhHB0            iPhone X — Introducing iPhone X — Apple   \n",
       "2  cLdxuaxaQwc                                        My Response   \n",
       "3  WYYvHb03Eog                          Apple iPhone X first look   \n",
       "4  sjlHnJvXdQs                                  iPhone X (parody)   \n",
       "\n",
       "      channel_title  category_id  \\\n",
       "0  Logan Paul Vlogs           24   \n",
       "1             Apple           28   \n",
       "2         PewDiePie           22   \n",
       "3         The Verge           28   \n",
       "4        jacksfilms           23   \n",
       "\n",
       "                                                tags    views   likes  \\\n",
       "0  logan paul vlog|logan paul|logan|paul|olympics...  4394029  320053   \n",
       "1  Apple|iPhone 10|iPhone Ten|iPhone|Portrait Lig...  7860119  185853   \n",
       "2                                             [none]  5845909  576597   \n",
       "3  apple iphone x hands on|Apple iPhone X|iPhone ...  2642103   24975   \n",
       "4  jacksfilms|parody|parodies|iphone|iphone x|iph...  1168130   96666   \n",
       "\n",
       "   dislikes  comment_total                                  thumbnail_link  \\\n",
       "0      5931          46245  https://i.ytimg.com/vi/XpVt6Z1Gjjo/default.jpg   \n",
       "1     26679              0  https://i.ytimg.com/vi/K4wEI5zhHB0/default.jpg   \n",
       "2     39774         170708  https://i.ytimg.com/vi/cLdxuaxaQwc/default.jpg   \n",
       "3      4542          12829  https://i.ytimg.com/vi/WYYvHb03Eog/default.jpg   \n",
       "4       568           6666  https://i.ytimg.com/vi/sjlHnJvXdQs/default.jpg   \n",
       "\n",
       "         date  \n",
       "0  2017-09-13  \n",
       "1  2017-09-13  \n",
       "2  2017-09-13  \n",
       "3  2017-09-13  \n",
       "4  2017-09-13  "
      ]
     },
     "execution_count": 129,
     "metadata": {},
     "output_type": "execute_result"
    }
   ],
   "source": [
    "video_data.head()"
   ]
  },
  {
   "cell_type": "code",
   "execution_count": 130,
   "metadata": {},
   "outputs": [],
   "source": [
    "\n",
    "#Before removing outliers\n",
    "\n",
    "def before_removing_outliers():\n",
    "    for i in range(5,9):\n",
    "        fig, ax =plt.subplots(1,2)\n",
    "        sns.kdeplot(video_data.iloc[:,i], shade=True,ax=ax[0])\n",
    "        sns.boxplot(x=video_data.iloc[:,i],ax=ax[1])\n",
    "        fig.show()\n"
   ]
  },
  {
   "cell_type": "code",
   "execution_count": 131,
   "metadata": {},
   "outputs": [
    {
     "name": "stderr",
     "output_type": "stream",
     "text": [
      "C:\\Users\\monic\\Anaconda3\\lib\\site-packages\\scipy\\stats\\stats.py:1713: FutureWarning:\n",
      "\n",
      "Using a non-tuple sequence for multidimensional indexing is deprecated; use `arr[tuple(seq)]` instead of `arr[seq]`. In the future this will be interpreted as an array index, `arr[np.array(seq)]`, which will result either in an error or a different result.\n",
      "\n",
      "C:\\Users\\monic\\Anaconda3\\lib\\site-packages\\matplotlib\\figure.py:445: UserWarning:\n",
      "\n",
      "Matplotlib is currently using module://ipykernel.pylab.backend_inline, which is a non-GUI backend, so cannot show the figure.\n",
      "\n",
      "C:\\Users\\monic\\Anaconda3\\lib\\site-packages\\matplotlib\\figure.py:445: UserWarning:\n",
      "\n",
      "Matplotlib is currently using module://ipykernel.pylab.backend_inline, which is a non-GUI backend, so cannot show the figure.\n",
      "\n",
      "C:\\Users\\monic\\Anaconda3\\lib\\site-packages\\matplotlib\\figure.py:445: UserWarning:\n",
      "\n",
      "Matplotlib is currently using module://ipykernel.pylab.backend_inline, which is a non-GUI backend, so cannot show the figure.\n",
      "\n",
      "C:\\Users\\monic\\Anaconda3\\lib\\site-packages\\matplotlib\\figure.py:445: UserWarning:\n",
      "\n",
      "Matplotlib is currently using module://ipykernel.pylab.backend_inline, which is a non-GUI backend, so cannot show the figure.\n",
      "\n"
     ]
    },
    {
     "data": {
      "image/png": "[encoded data removed]",
      "text/plain": [
       "<Figure size 432x288 with 2 Axes>"
      ]
     },
     "metadata": {
      "needs_background": "light"
     },
     "output_type": "display_data"
    },
    {
     "data": {
      "image/png": "[encoded data removed]",
      "text/plain": [
       "<Figure size 432x288 with 2 Axes>"
      ]
     },
     "metadata": {
      "needs_background": "light"
     },
     "output_type": "display_data"
    },
    {
     "data": {
      "image/png": "[encoded data removed]",
      "text/plain": [
       "<Figure size 432x288 with 2 Axes>"
      ]
     },
     "metadata": {
      "needs_background": "light"
     },
     "output_type": "display_data"
    },
    {
     "data": {
      "image/png": "[encoded data removed]",
      "text/plain": [
       "<Figure size 432x288 with 2 Axes>"
      ]
     },
     "metadata": {
      "needs_background": "light"
     },
     "output_type": "display_data"
    }
   ],
   "source": [
    "before_removing_outliers()"
   ]
  },
  {
   "cell_type": "code",
   "execution_count": 132,
   "metadata": {},
   "outputs": [
    {
     "name": "stderr",
     "output_type": "stream",
     "text": [
      "C:\\Users\\monic\\Anaconda3\\lib\\site-packages\\ipykernel_launcher.py:3: RuntimeWarning:\n",
      "\n",
      "divide by zero encountered in log\n",
      "\n",
      "C:\\Users\\monic\\Anaconda3\\lib\\site-packages\\ipykernel_launcher.py:4: RuntimeWarning:\n",
      "\n",
      "divide by zero encountered in log\n",
      "\n",
      "C:\\Users\\monic\\Anaconda3\\lib\\site-packages\\ipykernel_launcher.py:5: RuntimeWarning:\n",
      "\n",
      "divide by zero encountered in log\n",
      "\n",
      "C:\\Users\\monic\\Anaconda3\\lib\\site-packages\\ipykernel_launcher.py:6: RuntimeWarning:\n",
      "\n",
      "divide by zero encountered in log\n",
      "\n"
     ]
    }
   ],
   "source": [
    "#Log transformation because data is right skewed\n",
    "\n",
    "video_data['logviews'] = np.log(video_data['views'])\n",
    "video_data['loglikes'] = np.log(video_data['likes'])\n",
    "video_data['logdislikes'] = np.log(video_data['dislikes'])\n",
    "video_data['logcomment_total'] = np.log(video_data['comment_total'])"
   ]
  },
  {
   "cell_type": "code",
   "execution_count": 133,
   "metadata": {},
   "outputs": [
    {
     "data": {
      "text/plain": [
       "(7998, 15)"
      ]
     },
     "execution_count": 133,
     "metadata": {},
     "output_type": "execute_result"
    }
   ],
   "source": [
    "video_data.shape"
   ]
  },
  {
   "cell_type": "code",
   "execution_count": 134,
   "metadata": {},
   "outputs": [],
   "source": [
    "\n",
    "#After log transformation, removing outliers\n",
    "\n",
    "def displayGraphs():\n",
    "    for i in range(13,17):\n",
    "        fig, ax =plt.subplots(1,2)\n",
    "        sns.kdeplot(video_data.iloc[:,i], shade=True,ax=ax[0])\n",
    "        sns.boxplot(x=video_data.iloc[:,i],ax=ax[1])\n",
    "        fig.show()\n"
   ]
  },
  {
   "cell_type": "code",
   "execution_count": 135,
   "metadata": {},
   "outputs": [
    {
     "name": "stderr",
     "output_type": "stream",
     "text": [
      "C:\\Users\\monic\\Anaconda3\\lib\\site-packages\\matplotlib\\figure.py:445: UserWarning:\n",
      "\n",
      "Matplotlib is currently using module://ipykernel.pylab.backend_inline, which is a non-GUI backend, so cannot show the figure.\n",
      "\n",
      "C:\\Users\\monic\\Anaconda3\\lib\\site-packages\\matplotlib\\figure.py:445: UserWarning:\n",
      "\n",
      "Matplotlib is currently using module://ipykernel.pylab.backend_inline, which is a non-GUI backend, so cannot show the figure.\n",
      "\n"
     ]
    },
    {
     "ename": "IndexError",
     "evalue": "single positional indexer is out-of-bounds",
     "output_type": "error",
     "traceback": [
      "\u001b[1;31m---------------------------------------------------------------------------\u001b[0m",
      "\u001b[1;31mIndexError\u001b[0m                                Traceback (most recent call last)",
      "\u001b[1;32m<ipython-input-135-d0478b946754>\u001b[0m in \u001b[0;36m<module>\u001b[1;34m\u001b[0m\n\u001b[1;32m----> 1\u001b[1;33m \u001b[0mdisplayGraphs\u001b[0m\u001b[1;33m(\u001b[0m\u001b[1;33m)\u001b[0m\u001b[1;33m\u001b[0m\u001b[1;33m\u001b[0m\u001b[0m\n\u001b[0m",
      "\u001b[1;32m<ipython-input-134-eff728834b50>\u001b[0m in \u001b[0;36mdisplayGraphs\u001b[1;34m()\u001b[0m\n\u001b[0;32m      5\u001b[0m     \u001b[1;32mfor\u001b[0m \u001b[0mi\u001b[0m \u001b[1;32min\u001b[0m \u001b[0mrange\u001b[0m\u001b[1;33m(\u001b[0m\u001b[1;36m13\u001b[0m\u001b[1;33m,\u001b[0m\u001b[1;36m17\u001b[0m\u001b[1;33m)\u001b[0m\u001b[1;33m:\u001b[0m\u001b[1;33m\u001b[0m\u001b[1;33m\u001b[0m\u001b[0m\n\u001b[0;32m      6\u001b[0m         \u001b[0mfig\u001b[0m\u001b[1;33m,\u001b[0m \u001b[0max\u001b[0m \u001b[1;33m=\u001b[0m\u001b[0mplt\u001b[0m\u001b[1;33m.\u001b[0m\u001b[0msubplots\u001b[0m\u001b[1;33m(\u001b[0m\u001b[1;36m1\u001b[0m\u001b[1;33m,\u001b[0m\u001b[1;36m2\u001b[0m\u001b[1;33m)\u001b[0m\u001b[1;33m\u001b[0m\u001b[1;33m\u001b[0m\u001b[0m\n\u001b[1;32m----> 7\u001b[1;33m         \u001b[0msns\u001b[0m\u001b[1;33m.\u001b[0m\u001b[0mkdeplot\u001b[0m\u001b[1;33m(\u001b[0m\u001b[0mvideo_data\u001b[0m\u001b[1;33m.\u001b[0m\u001b[0miloc\u001b[0m\u001b[1;33m[\u001b[0m\u001b[1;33m:\u001b[0m\u001b[1;33m,\u001b[0m\u001b[0mi\u001b[0m\u001b[1;33m]\u001b[0m\u001b[1;33m,\u001b[0m \u001b[0mshade\u001b[0m\u001b[1;33m=\u001b[0m\u001b[1;32mTrue\u001b[0m\u001b[1;33m,\u001b[0m\u001b[0max\u001b[0m\u001b[1;33m=\u001b[0m\u001b[0max\u001b[0m\u001b[1;33m[\u001b[0m\u001b[1;36m0\u001b[0m\u001b[1;33m]\u001b[0m\u001b[1;33m)\u001b[0m\u001b[1;33m\u001b[0m\u001b[1;33m\u001b[0m\u001b[0m\n\u001b[0m\u001b[0;32m      8\u001b[0m         \u001b[0msns\u001b[0m\u001b[1;33m.\u001b[0m\u001b[0mboxplot\u001b[0m\u001b[1;33m(\u001b[0m\u001b[0mx\u001b[0m\u001b[1;33m=\u001b[0m\u001b[0mvideo_data\u001b[0m\u001b[1;33m.\u001b[0m\u001b[0miloc\u001b[0m\u001b[1;33m[\u001b[0m\u001b[1;33m:\u001b[0m\u001b[1;33m,\u001b[0m\u001b[0mi\u001b[0m\u001b[1;33m]\u001b[0m\u001b[1;33m,\u001b[0m\u001b[0max\u001b[0m\u001b[1;33m=\u001b[0m\u001b[0max\u001b[0m\u001b[1;33m[\u001b[0m\u001b[1;36m1\u001b[0m\u001b[1;33m]\u001b[0m\u001b[1;33m)\u001b[0m\u001b[1;33m\u001b[0m\u001b[1;33m\u001b[0m\u001b[0m\n\u001b[0;32m      9\u001b[0m         \u001b[0mfig\u001b[0m\u001b[1;33m.\u001b[0m\u001b[0mshow\u001b[0m\u001b[1;33m(\u001b[0m\u001b[1;33m)\u001b[0m\u001b[1;33m\u001b[0m\u001b[1;33m\u001b[0m\u001b[0m\n",
      "\u001b[1;32m~\\Anaconda3\\lib\\site-packages\\pandas\\core\\indexing.py\u001b[0m in \u001b[0;36m__getitem__\u001b[1;34m(self, key)\u001b[0m\n\u001b[0;32m   1470\u001b[0m             \u001b[1;32mexcept\u001b[0m \u001b[1;33m(\u001b[0m\u001b[0mKeyError\u001b[0m\u001b[1;33m,\u001b[0m \u001b[0mIndexError\u001b[0m\u001b[1;33m)\u001b[0m\u001b[1;33m:\u001b[0m\u001b[1;33m\u001b[0m\u001b[1;33m\u001b[0m\u001b[0m\n\u001b[0;32m   1471\u001b[0m                 \u001b[1;32mpass\u001b[0m\u001b[1;33m\u001b[0m\u001b[1;33m\u001b[0m\u001b[0m\n\u001b[1;32m-> 1472\u001b[1;33m             \u001b[1;32mreturn\u001b[0m \u001b[0mself\u001b[0m\u001b[1;33m.\u001b[0m\u001b[0m_getitem_tuple\u001b[0m\u001b[1;33m(\u001b[0m\u001b[0mkey\u001b[0m\u001b[1;33m)\u001b[0m\u001b[1;33m\u001b[0m\u001b[1;33m\u001b[0m\u001b[0m\n\u001b[0m\u001b[0;32m   1473\u001b[0m         \u001b[1;32melse\u001b[0m\u001b[1;33m:\u001b[0m\u001b[1;33m\u001b[0m\u001b[1;33m\u001b[0m\u001b[0m\n\u001b[0;32m   1474\u001b[0m             \u001b[1;31m# we by definition only have the 0th axis\u001b[0m\u001b[1;33m\u001b[0m\u001b[1;33m\u001b[0m\u001b[1;33m\u001b[0m\u001b[0m\n",
      "\u001b[1;32m~\\Anaconda3\\lib\\site-packages\\pandas\\core\\indexing.py\u001b[0m in \u001b[0;36m_getitem_tuple\u001b[1;34m(self, tup)\u001b[0m\n\u001b[0;32m   2011\u001b[0m     \u001b[1;32mdef\u001b[0m \u001b[0m_getitem_tuple\u001b[0m\u001b[1;33m(\u001b[0m\u001b[0mself\u001b[0m\u001b[1;33m,\u001b[0m \u001b[0mtup\u001b[0m\u001b[1;33m)\u001b[0m\u001b[1;33m:\u001b[0m\u001b[1;33m\u001b[0m\u001b[1;33m\u001b[0m\u001b[0m\n\u001b[0;32m   2012\u001b[0m \u001b[1;33m\u001b[0m\u001b[0m\n\u001b[1;32m-> 2013\u001b[1;33m         \u001b[0mself\u001b[0m\u001b[1;33m.\u001b[0m\u001b[0m_has_valid_tuple\u001b[0m\u001b[1;33m(\u001b[0m\u001b[0mtup\u001b[0m\u001b[1;33m)\u001b[0m\u001b[1;33m\u001b[0m\u001b[1;33m\u001b[0m\u001b[0m\n\u001b[0m\u001b[0;32m   2014\u001b[0m         \u001b[1;32mtry\u001b[0m\u001b[1;33m:\u001b[0m\u001b[1;33m\u001b[0m\u001b[1;33m\u001b[0m\u001b[0m\n\u001b[0;32m   2015\u001b[0m             \u001b[1;32mreturn\u001b[0m \u001b[0mself\u001b[0m\u001b[1;33m.\u001b[0m\u001b[0m_getitem_lowerdim\u001b[0m\u001b[1;33m(\u001b[0m\u001b[0mtup\u001b[0m\u001b[1;33m)\u001b[0m\u001b[1;33m\u001b[0m\u001b[1;33m\u001b[0m\u001b[0m\n",
      "\u001b[1;32m~\\Anaconda3\\lib\\site-packages\\pandas\\core\\indexing.py\u001b[0m in \u001b[0;36m_has_valid_tuple\u001b[1;34m(self, key)\u001b[0m\n\u001b[0;32m    220\u001b[0m                 \u001b[1;32mraise\u001b[0m \u001b[0mIndexingError\u001b[0m\u001b[1;33m(\u001b[0m\u001b[1;34m'Too many indexers'\u001b[0m\u001b[1;33m)\u001b[0m\u001b[1;33m\u001b[0m\u001b[1;33m\u001b[0m\u001b[0m\n\u001b[0;32m    221\u001b[0m             \u001b[1;32mtry\u001b[0m\u001b[1;33m:\u001b[0m\u001b[1;33m\u001b[0m\u001b[1;33m\u001b[0m\u001b[0m\n\u001b[1;32m--> 222\u001b[1;33m                 \u001b[0mself\u001b[0m\u001b[1;33m.\u001b[0m\u001b[0m_validate_key\u001b[0m\u001b[1;33m(\u001b[0m\u001b[0mk\u001b[0m\u001b[1;33m,\u001b[0m \u001b[0mi\u001b[0m\u001b[1;33m)\u001b[0m\u001b[1;33m\u001b[0m\u001b[1;33m\u001b[0m\u001b[0m\n\u001b[0m\u001b[0;32m    223\u001b[0m             \u001b[1;32mexcept\u001b[0m \u001b[0mValueError\u001b[0m\u001b[1;33m:\u001b[0m\u001b[1;33m\u001b[0m\u001b[1;33m\u001b[0m\u001b[0m\n\u001b[0;32m    224\u001b[0m                 raise ValueError(\"Location based indexing can only have \"\n",
      "\u001b[1;32m~\\Anaconda3\\lib\\site-packages\\pandas\\core\\indexing.py\u001b[0m in \u001b[0;36m_validate_key\u001b[1;34m(self, key, axis)\u001b[0m\n\u001b[0;32m   1955\u001b[0m             \u001b[1;32mreturn\u001b[0m\u001b[1;33m\u001b[0m\u001b[1;33m\u001b[0m\u001b[0m\n\u001b[0;32m   1956\u001b[0m         \u001b[1;32melif\u001b[0m \u001b[0mis_integer\u001b[0m\u001b[1;33m(\u001b[0m\u001b[0mkey\u001b[0m\u001b[1;33m)\u001b[0m\u001b[1;33m:\u001b[0m\u001b[1;33m\u001b[0m\u001b[1;33m\u001b[0m\u001b[0m\n\u001b[1;32m-> 1957\u001b[1;33m             \u001b[0mself\u001b[0m\u001b[1;33m.\u001b[0m\u001b[0m_validate_integer\u001b[0m\u001b[1;33m(\u001b[0m\u001b[0mkey\u001b[0m\u001b[1;33m,\u001b[0m \u001b[0maxis\u001b[0m\u001b[1;33m)\u001b[0m\u001b[1;33m\u001b[0m\u001b[1;33m\u001b[0m\u001b[0m\n\u001b[0m\u001b[0;32m   1958\u001b[0m         \u001b[1;32melif\u001b[0m \u001b[0misinstance\u001b[0m\u001b[1;33m(\u001b[0m\u001b[0mkey\u001b[0m\u001b[1;33m,\u001b[0m \u001b[0mtuple\u001b[0m\u001b[1;33m)\u001b[0m\u001b[1;33m:\u001b[0m\u001b[1;33m\u001b[0m\u001b[1;33m\u001b[0m\u001b[0m\n\u001b[0;32m   1959\u001b[0m             \u001b[1;31m# a tuple should already have been caught by this point\u001b[0m\u001b[1;33m\u001b[0m\u001b[1;33m\u001b[0m\u001b[1;33m\u001b[0m\u001b[0m\n",
      "\u001b[1;32m~\\Anaconda3\\lib\\site-packages\\pandas\\core\\indexing.py\u001b[0m in \u001b[0;36m_validate_integer\u001b[1;34m(self, key, axis)\u001b[0m\n\u001b[0;32m   2007\u001b[0m         \u001b[0ml\u001b[0m \u001b[1;33m=\u001b[0m \u001b[0mlen\u001b[0m\u001b[1;33m(\u001b[0m\u001b[0max\u001b[0m\u001b[1;33m)\u001b[0m\u001b[1;33m\u001b[0m\u001b[1;33m\u001b[0m\u001b[0m\n\u001b[0;32m   2008\u001b[0m         \u001b[1;32mif\u001b[0m \u001b[0mkey\u001b[0m \u001b[1;33m>=\u001b[0m \u001b[0ml\u001b[0m \u001b[1;32mor\u001b[0m \u001b[0mkey\u001b[0m \u001b[1;33m<\u001b[0m \u001b[1;33m-\u001b[0m\u001b[0ml\u001b[0m\u001b[1;33m:\u001b[0m\u001b[1;33m\u001b[0m\u001b[1;33m\u001b[0m\u001b[0m\n\u001b[1;32m-> 2009\u001b[1;33m             \u001b[1;32mraise\u001b[0m \u001b[0mIndexError\u001b[0m\u001b[1;33m(\u001b[0m\u001b[1;34m\"single positional indexer is out-of-bounds\"\u001b[0m\u001b[1;33m)\u001b[0m\u001b[1;33m\u001b[0m\u001b[1;33m\u001b[0m\u001b[0m\n\u001b[0m\u001b[0;32m   2010\u001b[0m \u001b[1;33m\u001b[0m\u001b[0m\n\u001b[0;32m   2011\u001b[0m     \u001b[1;32mdef\u001b[0m \u001b[0m_getitem_tuple\u001b[0m\u001b[1;33m(\u001b[0m\u001b[0mself\u001b[0m\u001b[1;33m,\u001b[0m \u001b[0mtup\u001b[0m\u001b[1;33m)\u001b[0m\u001b[1;33m:\u001b[0m\u001b[1;33m\u001b[0m\u001b[1;33m\u001b[0m\u001b[0m\n",
      "\u001b[1;31mIndexError\u001b[0m: single positional indexer is out-of-bounds"
     ]
    },
    {
     "data": {
      "image/png": "[encoded data removed]",
      "text/plain": [
       "<Figure size 432x288 with 2 Axes>"
      ]
     },
     "metadata": {
      "needs_background": "light"
     },
     "output_type": "display_data"
    },
    {
     "data": {
      "image/png": "[encoded data removed]",
      "text/plain": [
       "<Figure size 432x288 with 2 Axes>"
      ]
     },
     "metadata": {
      "needs_background": "light"
     },
     "output_type": "display_data"
    },
    {
     "data": {
      "image/png": "[encoded data removed]",
      "text/plain": [
       "<Figure size 432x288 with 2 Axes>"
      ]
     },
     "metadata": {
      "needs_background": "light"
     },
     "output_type": "display_data"
    }
   ],
   "source": [
    "displayGraphs()"
   ]
  },
  {
   "cell_type": "code",
   "execution_count": null,
   "metadata": {
    "scrolled": true
   },
   "outputs": [],
   "source": [
    "#Removing outliers Loglikes\n",
    "\n",
    "video_data[video_data['loglikes'] >= 14].count()\n",
    "video_data[video_data['loglikes'] <=4.5 ].count()\n"
   ]
  },
  {
   "cell_type": "code",
   "execution_count": 136,
   "metadata": {},
   "outputs": [
    {
     "data": {
      "text/plain": [
       "(7524, 15)"
      ]
     },
     "execution_count": 136,
     "metadata": {},
     "output_type": "execute_result"
    }
   ],
   "source": [
    "#Removing outliers loglikes\n",
    "\n",
    "video_data = video_data[video_data['loglikes'] < 14]\n",
    "video_data = video_data[video_data['loglikes'] > 4.5]\n",
    "\n",
    "video_data.shape"
   ]
  },
  {
   "cell_type": "code",
   "execution_count": 137,
   "metadata": {},
   "outputs": [
    {
     "data": {
      "text/plain": [
       "video_id            50\n",
       "title               50\n",
       "channel_title       50\n",
       "category_id         50\n",
       "tags                50\n",
       "views               50\n",
       "likes               50\n",
       "dislikes            50\n",
       "comment_total       50\n",
       "thumbnail_link      50\n",
       "date                50\n",
       "logviews            50\n",
       "loglikes            50\n",
       "logdislikes         50\n",
       "logcomment_total    50\n",
       "dtype: int64"
      ]
     },
     "execution_count": 137,
     "metadata": {},
     "output_type": "execute_result"
    }
   ],
   "source": [
    "#Removing outliers logdislikes\n",
    "\n",
    "video_data[video_data['logdislikes'] > 11].count()\n",
    "video_data[video_data['logdislikes'] <= 1].count()"
   ]
  },
  {
   "cell_type": "code",
   "execution_count": 138,
   "metadata": {},
   "outputs": [
    {
     "data": {
      "text/plain": [
       "(7442, 15)"
      ]
     },
     "execution_count": 138,
     "metadata": {},
     "output_type": "execute_result"
    }
   ],
   "source": [
    "video_data = video_data[video_data['logdislikes'] < 11]\n",
    "video_data = video_data[video_data['logdislikes'] > 1]\n",
    "\n",
    "video_data.shape"
   ]
  },
  {
   "cell_type": "code",
   "execution_count": 139,
   "metadata": {},
   "outputs": [
    {
     "data": {
      "text/plain": [
       "video_id            27\n",
       "title               27\n",
       "channel_title       27\n",
       "category_id         27\n",
       "tags                27\n",
       "views               27\n",
       "likes               27\n",
       "dislikes            27\n",
       "comment_total       27\n",
       "thumbnail_link      27\n",
       "date                27\n",
       "logviews            27\n",
       "loglikes            27\n",
       "logdislikes         27\n",
       "logcomment_total    27\n",
       "dtype: int64"
      ]
     },
     "execution_count": 139,
     "metadata": {},
     "output_type": "execute_result"
    }
   ],
   "source": [
    "#Removing outliers logviews\n",
    "\n",
    "video_data[video_data['logviews'] >= 16.7].count()\n",
    "video_data[video_data['logviews'] <= 9].count()\n"
   ]
  },
  {
   "cell_type": "code",
   "execution_count": 140,
   "metadata": {
    "scrolled": true
   },
   "outputs": [
    {
     "data": {
      "text/plain": [
       "(7405, 15)"
      ]
     },
     "execution_count": 140,
     "metadata": {},
     "output_type": "execute_result"
    }
   ],
   "source": [
    "#Removing outliers logviews\n",
    "\n",
    "video_data = video_data[video_data['logviews'] <= 16.7]\n",
    "video_data = video_data[video_data['logviews'] >= 9]\n",
    "\n",
    "video_data.shape"
   ]
  },
  {
   "cell_type": "code",
   "execution_count": 141,
   "metadata": {},
   "outputs": [
    {
     "data": {
      "text/plain": [
       "video_id            214\n",
       "title               214\n",
       "channel_title       214\n",
       "category_id         214\n",
       "tags                214\n",
       "views               214\n",
       "likes               214\n",
       "dislikes            214\n",
       "comment_total       214\n",
       "thumbnail_link      214\n",
       "date                214\n",
       "logviews            214\n",
       "loglikes            214\n",
       "logdislikes         214\n",
       "logcomment_total    214\n",
       "dtype: int64"
      ]
     },
     "execution_count": 141,
     "metadata": {},
     "output_type": "execute_result"
    }
   ],
   "source": [
    "#Removing outliers logcomment_total\n",
    "\n",
    "video_data[video_data['logcomment_total'] >= 11.5].count()\n",
    "video_data[video_data['logcomment_total'] <= 3].count()\n"
   ]
  },
  {
   "cell_type": "code",
   "execution_count": 142,
   "metadata": {
    "scrolled": true
   },
   "outputs": [
    {
     "data": {
      "text/plain": [
       "(7170, 15)"
      ]
     },
     "execution_count": 142,
     "metadata": {},
     "output_type": "execute_result"
    }
   ],
   "source": [
    "#Removing outliers logcomment_total\n",
    "\n",
    "video_data = video_data[video_data['logcomment_total'] < 11.5]\n",
    "video_data = video_data[video_data['logcomment_total'] >= 3]\n",
    "\n",
    "video_data.shape"
   ]
  },
  {
   "cell_type": "code",
   "execution_count": 143,
   "metadata": {},
   "outputs": [
    {
     "data": {
      "text/html": [
       "<div>\n",
       "<style scoped>\n",
       "    .dataframe tbody tr th:only-of-type {\n",
       "        vertical-align: middle;\n",
       "    }\n",
       "\n",
       "    .dataframe tbody tr th {\n",
       "        vertical-align: top;\n",
       "    }\n",
       "\n",
       "    .dataframe thead th {\n",
       "        text-align: right;\n",
       "    }\n",
       "</style>\n",
       "<table border=\"1\" class=\"dataframe\">\n",
       "  <thead>\n",
       "    <tr style=\"text-align: right;\">\n",
       "      <th></th>\n",
       "      <th>video_id</th>\n",
       "      <th>title</th>\n",
       "      <th>channel_title</th>\n",
       "      <th>category_id</th>\n",
       "      <th>tags</th>\n",
       "      <th>views</th>\n",
       "      <th>likes</th>\n",
       "      <th>dislikes</th>\n",
       "      <th>comment_total</th>\n",
       "      <th>thumbnail_link</th>\n",
       "      <th>date</th>\n",
       "      <th>logviews</th>\n",
       "      <th>loglikes</th>\n",
       "      <th>logdislikes</th>\n",
       "      <th>logcomment_total</th>\n",
       "    </tr>\n",
       "  </thead>\n",
       "  <tbody>\n",
       "    <tr>\n",
       "      <th>0</th>\n",
       "      <td>XpVt6Z1Gjjo</td>\n",
       "      <td>1 YEAR OF VLOGGING -- HOW LOGAN PAUL CHANGED Y...</td>\n",
       "      <td>Logan Paul Vlogs</td>\n",
       "      <td>24</td>\n",
       "      <td>logan paul vlog|logan paul|logan|paul|olympics...</td>\n",
       "      <td>4394029</td>\n",
       "      <td>320053</td>\n",
       "      <td>5931</td>\n",
       "      <td>46245</td>\n",
       "      <td>https://i.ytimg.com/vi/XpVt6Z1Gjjo/default.jpg</td>\n",
       "      <td>2017-09-13</td>\n",
       "      <td>15.295757</td>\n",
       "      <td>12.676242</td>\n",
       "      <td>8.687948</td>\n",
       "      <td>10.741709</td>\n",
       "    </tr>\n",
       "    <tr>\n",
       "      <th>3</th>\n",
       "      <td>WYYvHb03Eog</td>\n",
       "      <td>Apple iPhone X first look</td>\n",
       "      <td>The Verge</td>\n",
       "      <td>28</td>\n",
       "      <td>apple iphone x hands on|Apple iPhone X|iPhone ...</td>\n",
       "      <td>2642103</td>\n",
       "      <td>24975</td>\n",
       "      <td>4542</td>\n",
       "      <td>12829</td>\n",
       "      <td>https://i.ytimg.com/vi/WYYvHb03Eog/default.jpg</td>\n",
       "      <td>2017-09-13</td>\n",
       "      <td>14.787086</td>\n",
       "      <td>10.125631</td>\n",
       "      <td>8.421123</td>\n",
       "      <td>9.459464</td>\n",
       "    </tr>\n",
       "    <tr>\n",
       "      <th>4</th>\n",
       "      <td>sjlHnJvXdQs</td>\n",
       "      <td>iPhone X (parody)</td>\n",
       "      <td>jacksfilms</td>\n",
       "      <td>23</td>\n",
       "      <td>jacksfilms|parody|parodies|iphone|iphone x|iph...</td>\n",
       "      <td>1168130</td>\n",
       "      <td>96666</td>\n",
       "      <td>568</td>\n",
       "      <td>6666</td>\n",
       "      <td>https://i.ytimg.com/vi/sjlHnJvXdQs/default.jpg</td>\n",
       "      <td>2017-09-13</td>\n",
       "      <td>13.970915</td>\n",
       "      <td>11.479017</td>\n",
       "      <td>6.342121</td>\n",
       "      <td>8.804775</td>\n",
       "    </tr>\n",
       "    <tr>\n",
       "      <th>5</th>\n",
       "      <td>cMKX2tE5Luk</td>\n",
       "      <td>The Disaster Artist | Official Trailer HD | A24</td>\n",
       "      <td>A24</td>\n",
       "      <td>1</td>\n",
       "      <td>a24|a24 films|a24 trailers|independent films|t...</td>\n",
       "      <td>1311445</td>\n",
       "      <td>34507</td>\n",
       "      <td>544</td>\n",
       "      <td>3040</td>\n",
       "      <td>https://i.ytimg.com/vi/cMKX2tE5Luk/default.jpg</td>\n",
       "      <td>2017-09-13</td>\n",
       "      <td>14.086640</td>\n",
       "      <td>10.448917</td>\n",
       "      <td>6.298949</td>\n",
       "      <td>8.019613</td>\n",
       "    </tr>\n",
       "    <tr>\n",
       "      <th>6</th>\n",
       "      <td>8wNr-NQImFg</td>\n",
       "      <td>The Check In: HUD, Ben Carson and Hurricanes</td>\n",
       "      <td>Late Night with Seth Meyers</td>\n",
       "      <td>23</td>\n",
       "      <td>Late night|Seth Meyers|check in|hud|Ben Carson...</td>\n",
       "      <td>666169</td>\n",
       "      <td>9985</td>\n",
       "      <td>297</td>\n",
       "      <td>1071</td>\n",
       "      <td>https://i.ytimg.com/vi/8wNr-NQImFg/default.jpg</td>\n",
       "      <td>2017-09-13</td>\n",
       "      <td>13.409299</td>\n",
       "      <td>9.208839</td>\n",
       "      <td>5.693732</td>\n",
       "      <td>6.976348</td>\n",
       "    </tr>\n",
       "  </tbody>\n",
       "</table>\n",
       "</div>"
      ],
      "text/plain": [
       "      video_id                                              title  \\\n",
       "0  XpVt6Z1Gjjo  1 YEAR OF VLOGGING -- HOW LOGAN PAUL CHANGED Y...   \n",
       "3  WYYvHb03Eog                          Apple iPhone X first look   \n",
       "4  sjlHnJvXdQs                                  iPhone X (parody)   \n",
       "5  cMKX2tE5Luk    The Disaster Artist | Official Trailer HD | A24   \n",
       "6  8wNr-NQImFg       The Check In: HUD, Ben Carson and Hurricanes   \n",
       "\n",
       "                 channel_title  category_id  \\\n",
       "0             Logan Paul Vlogs           24   \n",
       "3                    The Verge           28   \n",
       "4                   jacksfilms           23   \n",
       "5                          A24            1   \n",
       "6  Late Night with Seth Meyers           23   \n",
       "\n",
       "                                                tags    views   likes  \\\n",
       "0  logan paul vlog|logan paul|logan|paul|olympics...  4394029  320053   \n",
       "3  apple iphone x hands on|Apple iPhone X|iPhone ...  2642103   24975   \n",
       "4  jacksfilms|parody|parodies|iphone|iphone x|iph...  1168130   96666   \n",
       "5  a24|a24 films|a24 trailers|independent films|t...  1311445   34507   \n",
       "6  Late night|Seth Meyers|check in|hud|Ben Carson...   666169    9985   \n",
       "\n",
       "   dislikes  comment_total                                  thumbnail_link  \\\n",
       "0      5931          46245  https://i.ytimg.com/vi/XpVt6Z1Gjjo/default.jpg   \n",
       "3      4542          12829  https://i.ytimg.com/vi/WYYvHb03Eog/default.jpg   \n",
       "4       568           6666  https://i.ytimg.com/vi/sjlHnJvXdQs/default.jpg   \n",
       "5       544           3040  https://i.ytimg.com/vi/cMKX2tE5Luk/default.jpg   \n",
       "6       297           1071  https://i.ytimg.com/vi/8wNr-NQImFg/default.jpg   \n",
       "\n",
       "         date   logviews   loglikes  logdislikes  logcomment_total  \n",
       "0  2017-09-13  15.295757  12.676242     8.687948         10.741709  \n",
       "3  2017-09-13  14.787086  10.125631     8.421123          9.459464  \n",
       "4  2017-09-13  13.970915  11.479017     6.342121          8.804775  \n",
       "5  2017-09-13  14.086640  10.448917     6.298949          8.019613  \n",
       "6  2017-09-13  13.409299   9.208839     5.693732          6.976348  "
      ]
     },
     "execution_count": 143,
     "metadata": {},
     "output_type": "execute_result"
    }
   ],
   "source": [
    "video_data.head()"
   ]
  },
  {
   "cell_type": "markdown",
   "metadata": {},
   "source": [
    "## Top ,Channel, Category based on Views, Likes, Dislikes and Comments "
   ]
  },
  {
   "cell_type": "code",
   "execution_count": 144,
   "metadata": {},
   "outputs": [],
   "source": [
    "#Top Viewed videos\n",
    "top_views = video_data.sort_values(['views'],ascending=False)\n",
    "top_100_views = top_views.head(100)"
   ]
  },
  {
   "cell_type": "code",
   "execution_count": 145,
   "metadata": {
    "scrolled": true
   },
   "outputs": [
    {
     "data": {
      "text/plain": [
       "Text(0.5, 1.0, 'MOST VIEWED CHANNELS')"
      ]
     },
     "execution_count": 145,
     "metadata": {},
     "output_type": "execute_result"
    },
    {
     "data": {
      "image/png": "[encoded data removed]",
      "text/plain": [
       "<Figure size 720x432 with 1 Axes>"
      ]
     },
     "metadata": {
      "needs_background": "light"
     },
     "output_type": "display_data"
    }
   ],
   "source": [
    "#Top Channel Titles based on views\n",
    "\n",
    "top_100_views['channel_title'].value_counts().plot('bar',figsize=[10,6])\n",
    "plt.xlabel('Channel Title')\n",
    "plt.ylabel('Number of Views')\n",
    "plt.title('MOST VIEWED CHANNELS')\n"
   ]
  },
  {
   "cell_type": "code",
   "execution_count": 146,
   "metadata": {},
   "outputs": [
    {
     "name": "stderr",
     "output_type": "stream",
     "text": [
      "C:\\Users\\monic\\Anaconda3\\lib\\site-packages\\pandas\\plotting\\_core.py:194: UserWarning:\n",
      "\n",
      "'colors' is being deprecated. Please use 'color'instead of 'colors'\n",
      "\n"
     ]
    },
    {
     "data": {
      "text/plain": [
       "Text(0.5, 1.0, 'MOST VIEWED VIDEO CATEGORY')"
      ]
     },
     "execution_count": 146,
     "metadata": {},
     "output_type": "execute_result"
    },
    {
     "data": {
      "image/png": "[encoded data removed]",
      "text/plain": [
       "<Figure size 720x432 with 1 Axes>"
      ]
     },
     "metadata": {
      "needs_background": "light"
     },
     "output_type": "display_data"
    }
   ],
   "source": [
    "#Top Categories based on views\n",
    "\n",
    "ax = top_100_views['category_id'].value_counts().plot('bar',figsize=[10,6],colors=['darkcyan','cornflowerblue', 'darkorange',\n",
    "'firebrick', 'darkgoldenrod', 'darksalmon','deeppink'])\n",
    "ax.set_xticklabels(['Music','Entertainment','People & Blogs','Sports','News & Politics','Science & Technology','Comedy'])\n",
    "plt.xlabel('Category')\n",
    "plt.ylabel('Number of Views')\n",
    "plt.title('MOST VIEWED VIDEO CATEGORY')\n",
    "\n"
   ]
  },
  {
   "cell_type": "code",
   "execution_count": 147,
   "metadata": {},
   "outputs": [],
   "source": [
    "#Top Liked videos \n",
    "top_likes = video_data.sort_values(['likes'],ascending=False)\n",
    "top_100_likes = top_likes.head(100)"
   ]
  },
  {
   "cell_type": "code",
   "execution_count": 148,
   "metadata": {},
   "outputs": [
    {
     "data": {
      "text/html": [
       "<div>\n",
       "<style scoped>\n",
       "    .dataframe tbody tr th:only-of-type {\n",
       "        vertical-align: middle;\n",
       "    }\n",
       "\n",
       "    .dataframe tbody tr th {\n",
       "        vertical-align: top;\n",
       "    }\n",
       "\n",
       "    .dataframe thead th {\n",
       "        text-align: right;\n",
       "    }\n",
       "</style>\n",
       "<table border=\"1\" class=\"dataframe\">\n",
       "  <thead>\n",
       "    <tr style=\"text-align: right;\">\n",
       "      <th></th>\n",
       "      <th>video_id</th>\n",
       "      <th>title</th>\n",
       "      <th>channel_title</th>\n",
       "      <th>category_id</th>\n",
       "      <th>tags</th>\n",
       "      <th>views</th>\n",
       "      <th>likes</th>\n",
       "      <th>dislikes</th>\n",
       "      <th>comment_total</th>\n",
       "      <th>thumbnail_link</th>\n",
       "      <th>date</th>\n",
       "      <th>logviews</th>\n",
       "      <th>loglikes</th>\n",
       "      <th>logdislikes</th>\n",
       "      <th>logcomment_total</th>\n",
       "    </tr>\n",
       "  </thead>\n",
       "  <tbody>\n",
       "    <tr>\n",
       "      <th>2162</th>\n",
       "      <td>Tm8LGxTLtQk</td>\n",
       "      <td>One More Light (Official Video) - Linkin Park</td>\n",
       "      <td>Linkin Park</td>\n",
       "      <td>10</td>\n",
       "      <td>Linkin Park|Chester Bennington|One More Light|...</td>\n",
       "      <td>8134428</td>\n",
       "      <td>624601</td>\n",
       "      <td>6011</td>\n",
       "      <td>53798</td>\n",
       "      <td>https://i.ytimg.com/vi/Tm8LGxTLtQk/default.jpg</td>\n",
       "      <td>2017-09-23</td>\n",
       "      <td>15.911616</td>\n",
       "      <td>13.344868</td>\n",
       "      <td>8.701346</td>\n",
       "      <td>10.892992</td>\n",
       "    </tr>\n",
       "    <tr>\n",
       "      <th>7379</th>\n",
       "      <td>gOsM-DYAEhY</td>\n",
       "      <td>Imagine Dragons - Whatever It Takes</td>\n",
       "      <td>ImagineDragonsVEVO</td>\n",
       "      <td>10</td>\n",
       "      <td>Imagine Dragons|ImagineDragons|Whatever It Tak...</td>\n",
       "      <td>11985474</td>\n",
       "      <td>611911</td>\n",
       "      <td>5252</td>\n",
       "      <td>28308</td>\n",
       "      <td>https://i.ytimg.com/vi/gOsM-DYAEhY/default.jpg</td>\n",
       "      <td>2017-01-19</td>\n",
       "      <td>16.299206</td>\n",
       "      <td>13.324342</td>\n",
       "      <td>8.566364</td>\n",
       "      <td>10.250900</td>\n",
       "    </tr>\n",
       "    <tr>\n",
       "      <th>1863</th>\n",
       "      <td>Tm8LGxTLtQk</td>\n",
       "      <td>One More Light (Official Video) - Linkin Park</td>\n",
       "      <td>Linkin Park</td>\n",
       "      <td>10</td>\n",
       "      <td>Linkin Park|Chester Bennington|One More Light|...</td>\n",
       "      <td>7034721</td>\n",
       "      <td>586276</td>\n",
       "      <td>5527</td>\n",
       "      <td>52039</td>\n",
       "      <td>https://i.ytimg.com/vi/Tm8LGxTLtQk/default.jpg</td>\n",
       "      <td>2017-09-22</td>\n",
       "      <td>15.766369</td>\n",
       "      <td>13.281546</td>\n",
       "      <td>8.617400</td>\n",
       "      <td>10.859749</td>\n",
       "    </tr>\n",
       "  </tbody>\n",
       "</table>\n",
       "</div>"
      ],
      "text/plain": [
       "         video_id                                          title  \\\n",
       "2162  Tm8LGxTLtQk  One More Light (Official Video) - Linkin Park   \n",
       "7379  gOsM-DYAEhY            Imagine Dragons - Whatever It Takes   \n",
       "1863  Tm8LGxTLtQk  One More Light (Official Video) - Linkin Park   \n",
       "\n",
       "           channel_title  category_id  \\\n",
       "2162         Linkin Park           10   \n",
       "7379  ImagineDragonsVEVO           10   \n",
       "1863         Linkin Park           10   \n",
       "\n",
       "                                                   tags     views   likes  \\\n",
       "2162  Linkin Park|Chester Bennington|One More Light|...   8134428  624601   \n",
       "7379  Imagine Dragons|ImagineDragons|Whatever It Tak...  11985474  611911   \n",
       "1863  Linkin Park|Chester Bennington|One More Light|...   7034721  586276   \n",
       "\n",
       "      dislikes  comment_total                                  thumbnail_link  \\\n",
       "2162      6011          53798  https://i.ytimg.com/vi/Tm8LGxTLtQk/default.jpg   \n",
       "7379      5252          28308  https://i.ytimg.com/vi/gOsM-DYAEhY/default.jpg   \n",
       "1863      5527          52039  https://i.ytimg.com/vi/Tm8LGxTLtQk/default.jpg   \n",
       "\n",
       "            date   logviews   loglikes  logdislikes  logcomment_total  \n",
       "2162  2017-09-23  15.911616  13.344868     8.701346         10.892992  \n",
       "7379  2017-01-19  16.299206  13.324342     8.566364         10.250900  \n",
       "1863  2017-09-22  15.766369  13.281546     8.617400         10.859749  "
      ]
     },
     "execution_count": 148,
     "metadata": {},
     "output_type": "execute_result"
    }
   ],
   "source": [
    "top_100_likes.head(3)"
   ]
  },
  {
   "cell_type": "code",
   "execution_count": 149,
   "metadata": {},
   "outputs": [
    {
     "data": {
      "text/plain": [
       "Text(0.5, 1.0, 'MOST LIKED CHANNELS')"
      ]
     },
     "execution_count": 149,
     "metadata": {},
     "output_type": "execute_result"
    },
    {
     "data": {
      "image/png": "[encoded data removed]",
      "text/plain": [
       "<Figure size 720x432 with 1 Axes>"
      ]
     },
     "metadata": {
      "needs_background": "light"
     },
     "output_type": "display_data"
    }
   ],
   "source": [
    "#Top Channel Titles based on views\n",
    "\n",
    "top_100_likes['channel_title'].value_counts().plot('bar',figsize=[10,6])\n",
    "plt.xlabel('Channel Title')\n",
    "plt.ylabel('Number of Likes')\n",
    "plt.title('MOST LIKED CHANNELS')\n"
   ]
  },
  {
   "cell_type": "code",
   "execution_count": 150,
   "metadata": {},
   "outputs": [
    {
     "name": "stderr",
     "output_type": "stream",
     "text": [
      "C:\\Users\\monic\\Anaconda3\\lib\\site-packages\\pandas\\plotting\\_core.py:194: UserWarning:\n",
      "\n",
      "'colors' is being deprecated. Please use 'color'instead of 'colors'\n",
      "\n"
     ]
    },
    {
     "data": {
      "text/plain": [
       "Text(0.5, 1.0, 'MOST LIKED VIDEO CATEGORY')"
      ]
     },
     "execution_count": 150,
     "metadata": {},
     "output_type": "execute_result"
    },
    {
     "data": {
      "image/png": "[encoded data removed]",
      "text/plain": [
       "<Figure size 720x432 with 1 Axes>"
      ]
     },
     "metadata": {
      "needs_background": "light"
     },
     "output_type": "display_data"
    }
   ],
   "source": [
    "#Top Categories based on likes\n",
    "\n",
    "ax = top_100_likes['category_id'].value_counts().plot('bar',figsize=[10,6], colors=['darkcyan','cornflowerblue', 'darkorange',\n",
    "'firebrick', 'darkgoldenrod', 'darksalmon','deeppink'])\n",
    "ax.set_xticklabels(['Music','Entertainment','Comedy', 'People & Blogs','Sports','Howto & Style','Science & Technology'])\n",
    "plt.xlabel('Category')\n",
    "plt.ylabel('Number of Likes')\n",
    "plt.title('MOST LIKED VIDEO CATEGORY')\n"
   ]
  },
  {
   "cell_type": "code",
   "execution_count": 151,
   "metadata": {},
   "outputs": [],
   "source": [
    "#Top Commented videos \n",
    "top_commented_videos = video_data.sort_values(['comment_total'],ascending=False)\n",
    "top_100_commented_videos = top_commented_videos.head(100)"
   ]
  },
  {
   "cell_type": "code",
   "execution_count": 152,
   "metadata": {},
   "outputs": [
    {
     "data": {
      "text/html": [
       "<div>\n",
       "<style scoped>\n",
       "    .dataframe tbody tr th:only-of-type {\n",
       "        vertical-align: middle;\n",
       "    }\n",
       "\n",
       "    .dataframe tbody tr th {\n",
       "        vertical-align: top;\n",
       "    }\n",
       "\n",
       "    .dataframe thead th {\n",
       "        text-align: right;\n",
       "    }\n",
       "</style>\n",
       "<table border=\"1\" class=\"dataframe\">\n",
       "  <thead>\n",
       "    <tr style=\"text-align: right;\">\n",
       "      <th></th>\n",
       "      <th>video_id</th>\n",
       "      <th>title</th>\n",
       "      <th>channel_title</th>\n",
       "      <th>category_id</th>\n",
       "      <th>tags</th>\n",
       "      <th>views</th>\n",
       "      <th>likes</th>\n",
       "      <th>dislikes</th>\n",
       "      <th>comment_total</th>\n",
       "      <th>thumbnail_link</th>\n",
       "      <th>date</th>\n",
       "      <th>logviews</th>\n",
       "      <th>loglikes</th>\n",
       "      <th>logdislikes</th>\n",
       "      <th>logcomment_total</th>\n",
       "    </tr>\n",
       "  </thead>\n",
       "  <tbody>\n",
       "    <tr>\n",
       "      <th>7665</th>\n",
       "      <td>WHvT-oGf6ik</td>\n",
       "      <td>Out Loud (Official Music Video)</td>\n",
       "      <td>Gabbie Hanna</td>\n",
       "      <td>26</td>\n",
       "      <td>the gabbie show|official video|out loud|music ...</td>\n",
       "      <td>2937924</td>\n",
       "      <td>343485</td>\n",
       "      <td>10423</td>\n",
       "      <td>70773</td>\n",
       "      <td>https://i.ytimg.com/vi/WHvT-oGf6ik/default.jpg</td>\n",
       "      <td>2017-01-21</td>\n",
       "      <td>14.893214</td>\n",
       "      <td>12.746899</td>\n",
       "      <td>9.251770</td>\n",
       "      <td>11.167233</td>\n",
       "    </tr>\n",
       "    <tr>\n",
       "      <th>7418</th>\n",
       "      <td>WHvT-oGf6ik</td>\n",
       "      <td>Out Loud (Official Music Video)</td>\n",
       "      <td>Gabbie Hanna</td>\n",
       "      <td>26</td>\n",
       "      <td>the gabbie show|official video|out loud|music ...</td>\n",
       "      <td>2463574</td>\n",
       "      <td>315097</td>\n",
       "      <td>9018</td>\n",
       "      <td>66778</td>\n",
       "      <td>https://i.ytimg.com/vi/WHvT-oGf6ik/default.jpg</td>\n",
       "      <td>2017-01-20</td>\n",
       "      <td>14.717124</td>\n",
       "      <td>12.660636</td>\n",
       "      <td>9.106978</td>\n",
       "      <td>11.109129</td>\n",
       "    </tr>\n",
       "    <tr>\n",
       "      <th>7891</th>\n",
       "      <td>WHvT-oGf6ik</td>\n",
       "      <td>Out Loud (Official Music Video)</td>\n",
       "      <td>Gabbie Hanna</td>\n",
       "      <td>26</td>\n",
       "      <td>the gabbie show|official video|out loud|music ...</td>\n",
       "      <td>3291670</td>\n",
       "      <td>359882</td>\n",
       "      <td>10988</td>\n",
       "      <td>66258</td>\n",
       "      <td>https://i.ytimg.com/vi/WHvT-oGf6ik/default.jpg</td>\n",
       "      <td>2017-01-22</td>\n",
       "      <td>15.006906</td>\n",
       "      <td>12.793531</td>\n",
       "      <td>9.304559</td>\n",
       "      <td>11.101311</td>\n",
       "    </tr>\n",
       "    <tr>\n",
       "      <th>5869</th>\n",
       "      <td>OY_cUBpDoiI</td>\n",
       "      <td>What you NEED to start a YouTube channel (YIAY...</td>\n",
       "      <td>jacksfilms</td>\n",
       "      <td>23</td>\n",
       "      <td>jacksfilms|yiay|youtube|channel|need|camera|ed...</td>\n",
       "      <td>1093358</td>\n",
       "      <td>64225</td>\n",
       "      <td>757</td>\n",
       "      <td>63436</td>\n",
       "      <td>https://i.ytimg.com/vi/OY_cUBpDoiI/default.jpg</td>\n",
       "      <td>2017-01-12</td>\n",
       "      <td>13.904764</td>\n",
       "      <td>11.070148</td>\n",
       "      <td>6.629363</td>\n",
       "      <td>11.057787</td>\n",
       "    </tr>\n",
       "    <tr>\n",
       "      <th>5618</th>\n",
       "      <td>OY_cUBpDoiI</td>\n",
       "      <td>What you NEED to start a YouTube channel (YIAY...</td>\n",
       "      <td>jacksfilms</td>\n",
       "      <td>23</td>\n",
       "      <td>jacksfilms|yiay|youtube|channel|need|camera|ed...</td>\n",
       "      <td>1012645</td>\n",
       "      <td>61512</td>\n",
       "      <td>636</td>\n",
       "      <td>61246</td>\n",
       "      <td>https://i.ytimg.com/vi/OY_cUBpDoiI/default.jpg</td>\n",
       "      <td>2017-01-11</td>\n",
       "      <td>13.828076</td>\n",
       "      <td>11.026988</td>\n",
       "      <td>6.455199</td>\n",
       "      <td>11.022654</td>\n",
       "    </tr>\n",
       "  </tbody>\n",
       "</table>\n",
       "</div>"
      ],
      "text/plain": [
       "         video_id                                              title  \\\n",
       "7665  WHvT-oGf6ik                    Out Loud (Official Music Video)   \n",
       "7418  WHvT-oGf6ik                    Out Loud (Official Music Video)   \n",
       "7891  WHvT-oGf6ik                    Out Loud (Official Music Video)   \n",
       "5869  OY_cUBpDoiI  What you NEED to start a YouTube channel (YIAY...   \n",
       "5618  OY_cUBpDoiI  What you NEED to start a YouTube channel (YIAY...   \n",
       "\n",
       "     channel_title  category_id  \\\n",
       "7665  Gabbie Hanna           26   \n",
       "7418  Gabbie Hanna           26   \n",
       "7891  Gabbie Hanna           26   \n",
       "5869    jacksfilms           23   \n",
       "5618    jacksfilms           23   \n",
       "\n",
       "                                                   tags    views   likes  \\\n",
       "7665  the gabbie show|official video|out loud|music ...  2937924  343485   \n",
       "7418  the gabbie show|official video|out loud|music ...  2463574  315097   \n",
       "7891  the gabbie show|official video|out loud|music ...  3291670  359882   \n",
       "5869  jacksfilms|yiay|youtube|channel|need|camera|ed...  1093358   64225   \n",
       "5618  jacksfilms|yiay|youtube|channel|need|camera|ed...  1012645   61512   \n",
       "\n",
       "      dislikes  comment_total                                  thumbnail_link  \\\n",
       "7665     10423          70773  https://i.ytimg.com/vi/WHvT-oGf6ik/default.jpg   \n",
       "7418      9018          66778  https://i.ytimg.com/vi/WHvT-oGf6ik/default.jpg   \n",
       "7891     10988          66258  https://i.ytimg.com/vi/WHvT-oGf6ik/default.jpg   \n",
       "5869       757          63436  https://i.ytimg.com/vi/OY_cUBpDoiI/default.jpg   \n",
       "5618       636          61246  https://i.ytimg.com/vi/OY_cUBpDoiI/default.jpg   \n",
       "\n",
       "            date   logviews   loglikes  logdislikes  logcomment_total  \n",
       "7665  2017-01-21  14.893214  12.746899     9.251770         11.167233  \n",
       "7418  2017-01-20  14.717124  12.660636     9.106978         11.109129  \n",
       "7891  2017-01-22  15.006906  12.793531     9.304559         11.101311  \n",
       "5869  2017-01-12  13.904764  11.070148     6.629363         11.057787  \n",
       "5618  2017-01-11  13.828076  11.026988     6.455199         11.022654  "
      ]
     },
     "execution_count": 152,
     "metadata": {},
     "output_type": "execute_result"
    }
   ],
   "source": [
    "top_100_commented_videos.head(5)"
   ]
  },
  {
   "cell_type": "code",
   "execution_count": 153,
   "metadata": {},
   "outputs": [
    {
     "data": {
      "text/plain": [
       "Text(0.5, 1.0, 'MOST COMMENTED CHANNELS')"
      ]
     },
     "execution_count": 153,
     "metadata": {},
     "output_type": "execute_result"
    },
    {
     "data": {
      "image/png": "[encoded data removed]",
      "text/plain": [
       "<Figure size 720x432 with 1 Axes>"
      ]
     },
     "metadata": {
      "needs_background": "light"
     },
     "output_type": "display_data"
    }
   ],
   "source": [
    "#Top Channel Titles based on comments\n",
    "\n",
    "top_100_commented_videos['channel_title'].value_counts().plot('bar',figsize=[10,6])\n",
    "plt.xlabel('Channel Title')\n",
    "plt.ylabel('Number of Comments')\n",
    "plt.title('MOST COMMENTED CHANNELS')\n"
   ]
  },
  {
   "cell_type": "code",
   "execution_count": 154,
   "metadata": {},
   "outputs": [
    {
     "name": "stderr",
     "output_type": "stream",
     "text": [
      "C:\\Users\\monic\\Anaconda3\\lib\\site-packages\\pandas\\plotting\\_core.py:194: UserWarning:\n",
      "\n",
      "'colors' is being deprecated. Please use 'color'instead of 'colors'\n",
      "\n"
     ]
    },
    {
     "data": {
      "text/plain": [
       "Text(0.5, 1.0, 'MOST COMMENTED VIDEO CATEGORY')"
      ]
     },
     "execution_count": 154,
     "metadata": {},
     "output_type": "execute_result"
    },
    {
     "data": {
      "image/png": "[encoded data removed]",
      "text/plain": [
       "<Figure size 720x432 with 1 Axes>"
      ]
     },
     "metadata": {
      "needs_background": "light"
     },
     "output_type": "display_data"
    }
   ],
   "source": [
    "#Top Categories based on comments\n",
    "\n",
    "ax = top_100_commented_videos['category_id'].value_counts().plot('bar',figsize=[10,6], colors=['darkcyan','cornflowerblue', 'darkorange',\n",
    "'firebrick', 'darkgoldenrod', 'darksalmon','deeppink'])\n",
    "ax.set_xticklabels(['Music','Entertainment','People & Blogs','Comedy','Howto & Style','Sports'])\n",
    "plt.xlabel('Category')\n",
    "plt.ylabel('Number of Comments')\n",
    "plt.title('MOST COMMENTED VIDEO CATEGORY')\n"
   ]
  },
  {
   "cell_type": "code",
   "execution_count": 155,
   "metadata": {},
   "outputs": [
    {
     "name": "stdout",
     "output_type": "stream",
     "text": [
      "['XpVt6Z1Gjjo', 'WYYvHb03Eog', 'sjlHnJvXdQs', 'cMKX2tE5Luk', '8wNr-NQImFg', '_HTXMhKWqnA', '_ANP3HR1jsM', 'zgLtEob6X-Q', 'Ayb_2qbZHm4', 'CsdzflTXBVQ', 'l864IBj7cgw', '4MkC65emkG4', 'vu_9muoxT50', '1L7JFN7tQLs', 'ZQK1F0wz6z4', 'T_PuZBdT2iM', 'w8fAellnPns', 'UCrBICYM0yM', 'Ifnaxi2LQg', 'B7YaMkCl3XA', '5ywKal6-anc', '4Yue-q9Jdbk', 'JhA1Wi9mrns', 'EVp4-qjWVJE', 'LcZ2AuvxXNA', 'MdzGZv3zQ-U', '1ZNZY-gd3K0', '2wxyDrfwlXQ', 'QBGaO89cBMI', 'ql0Op1VcELw', 'JO7X9ZPoAp8', 'GGm0FQ6i74U', 'a7Sf_H2cFdM', 'oDIDZ9EmQfA', 'l_uNfGY3v8E', 'Rew50oYjRqA', 'WWexI9YiLSc', 'LDcm6twPEJA', 'O78Lpo4ctSE', 'qJJHhVf3_ZM', '3yoGE3v4A8w', 'zTjcPeb2Gwg', 'hQbeB0YXLhs', 'L3f7_y9UPh4', '6vGg-jJl30A', '9CILSvf1snQ', 'WoPtuVbaSKQ', '62cWuFjzOgs', 'NzRuDD0iYC0', 'eM_FR7I2Ttw', 'eoArC99zm1M', 'IMG0u0_cKNc', 'bAon04ZJhHE', 'LTnl36-0-zU', 'EmjMWi0MBXQ', 'c7ymY8QEB2g', 'Ez95rPffd8k', '08RHSZvixec', 'iXexmZm3_j8', 'GpAuCG6iUcA', 'eRDxDEhEgNY', 'AZTGeQ5msaU', 'yiblDn4JGfQ', 'xKXxJcf6_IE', 'YQYslaA1Lus', 'k9bYO7uSnrg', '1nEp6DcHwhs', 'brfJuyTADuQ', 'bp6uJJJMaLs', 'ah8SQNOXgrQ', 'rHfyvSgvgoo', 'JmNKGfFj7w', 'Vjc459T6wX8', 'O4pFdLJmG7M', 'ktl2mLsSq4o', 'S6eJbe5GyDo', 'NoxKH_v8b-8', 'aZkqHx5uri4', '1Sm8A-u1vIA', 'JsTptu56GM8', 'ppGCbh8ggUs', 'tteLMfFDCb4', 'etn4P80K5WU', 'DUFBEamEF0Q', 'B_CHjYoqPUU', 'kCKTmL5Hn-M', 'N4Jb3gkrGXI', '0Yhaei1S5oQ', 'oePt4JgdyZo', 'amds5iNvFD4', 'OudFElslbh4', 'gmXuUgB7T3Y', 'gQvHtXWlXDE', 'LpZqwLZP5Vs', 'fCh5TVGaTSg', 'Pp19TkIU_fw', 'u6iVspBWzZU', 'cYk6sbe11c', 'Mq9dxmh6JiE', '_NlKTMvnjIc', '3x-sUsazQ90', '7Lyo5dCig-U', 'lwOQbMcXtfU', '7Gw-lN270qs', 'qZVm-2nM0sA', '_uLmn_Dba08', 'vSDCb3bdFlw', 'BdV0dkx2oik', 'U1bpztJkdzk', 'PHXkhUJWTXM', 'X7ld45pUueQ', 'wGQtrwey-TI', '_GC5AVsf528', 'BRzPaDMeRks', 'C3cwtcomilA', 'jehAZhrI7oA', 'tCu0tKrzhc', 'qPDZZj6By3Y', 'J_e77K4n6Ts', '7nh2Ra-5kY8', 'zJufeAMRHy8', 'UpONjs5kLPc', 'AHrCI9eSJGQ', '4LwpGaDKmZ8', 'Alp_a88C8dY', '5kZi3J2S52E', 'a6sywFdvURE', 'WAwRqecvMSY', 'uAipi4V5g34', 'pAsN4lSa7O0', 'xtDJ6uEyvnw', '8QgMh02JvS8', 'fQxLlq7lxVM', 'T2W7UocH0Hs', 'zPGRU49esCU', 'ykvX-E1nuag', '8fH_PAi6Yf4', 'TDskW3JvTAY', 'pwHvK07tUuw', 'U2CqZNd6rgM', 'bF5sIEuv83k', 'CayHgjP1YNQ', 'FTIStPerVNw', 'AX8-YzMKZhQ', 'REyxoxScrbU', 'c3pFWJCQy5E', 'eJB1gcydsbU', 'AR4UgRJOUQY', 'DGlYMJRwevI', 'PGfSaVDymjk', 'A-fofQ9VpPQ', 'pCSgWJzEvrM', 'bnON1y-fKag', 'VCVjbrt30tY', '2caEL5ATPX4', 'Ie50Nw9NkOk', 'qh7QJ_jLam0', 'XovZ04gmQgE', 'Zy6vBxqlapw', 'VEoITVHfyGg', 'XwW6ZWaQ4bs', 'Lv5DFKceFac', '4v38ugGj3u0', 'H_A0Z4S30Ds', 'ton42cZ6ZYU', 'lBspB4K-F-c', 'mTnRc4pVu4w', 'xo2B67vz4HA', 'rAh_16nooZA', 'PPg1gN_ey2o', 'k0WRpQU9zK0', '-1fzGnFwz9M', 'ezgtjMfgxos', 'fM8yID63CSA']\n",
      "         date  video_id\n",
      "0  2017-09-13       174\n",
      "1  2017-09-14       134\n",
      "2  2017-09-15        78\n",
      "3  2017-09-16        34\n",
      "4  2017-09-17        22\n",
      "5  2017-09-18        12\n",
      "6  2017-09-19         3\n"
     ]
    }
   ],
   "source": [
    "vid_check = video_data[['video_id', 'date']].copy().groupby('date', as_index = False).count()\n",
    "vid_check.columns = ['Dates', 'Videos per date']\n",
    "#print(vid_check.head())\n",
    "\n",
    "#print(video_data['date'])\n",
    "# dataframes for \n",
    "dates_per_id = video_data[['video_id', 'date']].groupby('video_id', as_index = False).count()\n",
    "#print(dates_per_id)\n",
    "dates_per_vids = dates_per_id.groupby('date', as_index = False).count()\n",
    "#print(dates_per_vids)\n",
    "\n",
    "dates_per_vids.columns = ['Quantity of dates per video', 'Quantity of videos in a date group']\n",
    "max_days = max(dates_per_vids['Quantity of dates per video'].values)\n",
    "#print(max_days)    \n",
    "\n",
    "\n",
    "\n",
    "sept_13_id = video_data.loc[video_data['date'] == date(2017,9,13), 'video_id'].tolist()\n",
    "print(sept_13_id)    #'2017-09-13'\n",
    "sept_13 = video_data.loc[video_data['video_id'].isin(sept_13_id), ['video_id', 'date']]\n",
    "\n",
    "sept_13 = sept_13.groupby('date', as_index=False).count()   \n",
    "print(sept_13)    "
   ]
  },
  {
   "cell_type": "code",
   "execution_count": 156,
   "metadata": {},
   "outputs": [],
   "source": [
    "#check how many days a video can be in trend and get some details on longest trending videos.\n",
    "def quick_insight(df, country, color):\n",
    "    \n",
    "    # dataframes for videos per each date\n",
    "    vid_check = video_data[['video_id', 'date']].copy().groupby('date', as_index = False).count()\n",
    "    vid_check.columns = ['Dates', 'Videos per date']\n",
    "    \n",
    "    # dataframes for \n",
    "    dates_per_id = video_data[['video_id', 'date']].groupby('video_id', as_index = False).count()\n",
    "    dates_per_vids = dates_per_id.groupby('date', as_index = False).count()\n",
    "    dates_per_vids.columns = ['Quantity of dates per video', 'Quantity of videos in a date group']\n",
    "    max_days = max(dates_per_vids['Quantity of dates per video'].values)\n",
    "    \n",
    "    # videos appeared in database as at 13 September 2017\n",
    "    sept_13_id = video_data.loc[video_data['date'] == date(2017,9,13), 'video_id'].tolist()\n",
    "    #'videos that were present from 13sept onwards till end i.e 19th sept\n",
    "    sept_13 = video_data.loc[video_data['video_id'].isin(sept_13_id), ['video_id', 'date']]\n",
    "    sept_13 = sept_13.groupby('date', as_index=False).count()   \n",
    "    \n",
    "    # combined plot\n",
    "    fig = plt.figure(figsize=(14, 10))\n",
    "    gs = gridspec.GridSpec(3, 2, width_ratios=[1,1], height_ratios = [1,0.1,1])\n",
    "     \n",
    "    # plotting buckets of videos by quantity of trending dates\n",
    "    ax2 = plt.subplot(gs[0,0])\n",
    "    ax2 = sns.barplot(x=\"Quantity of dates per video\",\n",
    "                      y=\"Quantity of videos in a date group\",\n",
    "                      data=dates_per_vids, color='navy')\n",
    "    ax2.set_ylabel('Quantity of videos ', fontsize=12)\n",
    "    ax2.set_xlabel('Trending days', fontsize=12)\n",
    "    title = 'Buckets of videos by quantity of trending dates'\n",
    "    ax2.set_title(title, fontsize=15)\n",
    "    \n",
    "    # plotting story of videos that appeared on September 13\n",
    "    ax3 = plt.subplot(gs[0,1])    \n",
    "    ax3 = sns.barplot(x='date', y=\"video_id\", data=sept_13, color=color, alpha = 0.7, palette='BuGn_r')\n",
    "    ax3.set_ylabel('Quantity of videos per date', fontsize=12)\n",
    "    ax3.set_xticklabels(sept_13['date'], rotation=45)\n",
    "    ax3.set_xlabel('')\n",
    "    title = 'Videos started on 13 September 2017'\n",
    "    ax3.set_title(title, fontsize=15)\n",
    "    \n",
    "    plt.show()"
   ]
  },
  {
   "cell_type": "code",
   "execution_count": 157,
   "metadata": {},
   "outputs": [],
   "source": [
    "#quick_insight(video_data, 'USA', 'cyan')\n"
   ]
  },
  {
   "cell_type": "code",
   "execution_count": 158,
   "metadata": {},
   "outputs": [
    {
     "name": "stdout",
     "output_type": "stream",
     "text": [
      "                views     likes  dislikes  category_id\n",
      "views        1.000000  0.761393  0.589985    -0.034585\n",
      "likes        0.761393  1.000000  0.497666    -0.053529\n",
      "dislikes     0.589985  0.497666  1.000000     0.026823\n",
      "category_id -0.034585 -0.053529  0.026823     1.000000\n"
     ]
    },
    {
     "data": {
      "text/plain": [
       "Text(0.5, 1.0, 'Correlation matrix')"
      ]
     },
     "execution_count": 158,
     "metadata": {},
     "output_type": "execute_result"
    },
    {
     "data": {
      "image/png": "[encoded data removed]",
      "text/plain": [
       "<Figure size 432x288 with 2 Axes>"
      ]
     },
     "metadata": {
      "needs_background": "light"
     },
     "output_type": "display_data"
    }
   ],
   "source": [
    "corr_us = video_data.loc[:,['views', 'likes', 'dislikes','category_id']].corr()\n",
    "print(corr_us)\n",
    "\n",
    "ax1 = sns.heatmap(corr_us, vmax=1, center=0.5, square=True, linewidths=.5) \n",
    "ax1.set_title('Correlation matrix', fontsize=20)"
   ]
  },
  {
   "cell_type": "markdown",
   "metadata": {},
   "source": [
    "## Machine Learning Algorithms implementation"
   ]
  },
  {
   "cell_type": "code",
   "execution_count": 159,
   "metadata": {},
   "outputs": [],
   "source": [
    "#Creating X,y and splitting the dataset into training and testing\n",
    "\n",
    "X, y = video_data[['views','dislikes','comment_total','category_id']].values, video_data['likes']\n",
    "\n",
    "X_train, X_test, y_train, y_test =\\\n",
    "    train_test_split(X, y, \n",
    "                     test_size=0.3, \n",
    "                     random_state=0)\n",
    "\n"
   ]
  },
  {
   "cell_type": "code",
   "execution_count": 160,
   "metadata": {},
   "outputs": [
    {
     "name": "stderr",
     "output_type": "stream",
     "text": [
      "C:\\Users\\monic\\Anaconda3\\lib\\site-packages\\sklearn\\utils\\validation.py:595: DataConversionWarning:\n",
      "\n",
      "Data with input dtype int64 was converted to float64 by StandardScaler.\n",
      "\n",
      "C:\\Users\\monic\\Anaconda3\\lib\\site-packages\\sklearn\\utils\\validation.py:595: DataConversionWarning:\n",
      "\n",
      "Data with input dtype int64 was converted to float64 by StandardScaler.\n",
      "\n",
      "C:\\Users\\monic\\Anaconda3\\lib\\site-packages\\sklearn\\utils\\validation.py:595: DataConversionWarning:\n",
      "\n",
      "Data with input dtype int64 was converted to float64 by StandardScaler.\n",
      "\n"
     ]
    }
   ],
   "source": [
    "#Scaling the features\n",
    "\n",
    "from sklearn.preprocessing import StandardScaler\n",
    "\n",
    "stdsc = StandardScaler()\n",
    "X_train_std = stdsc.fit_transform(X_train)\n",
    "X_test_std = stdsc.transform(X_test)"
   ]
  },
  {
   "cell_type": "code",
   "execution_count": 161,
   "metadata": {},
   "outputs": [
    {
     "name": "stdout",
     "output_type": "stream",
     "text": [
      "Decision Tree\n",
      "Accuracy on training set: 0.741\n",
      "Accuracy on test set: 0.003\n",
      "Predicted value:  [   95  2811  1582 ...  1768  4738 45898]\n"
     ]
    }
   ],
   "source": [
    "#Train decision tree model\n",
    "\n",
    "from sklearn.tree import DecisionTreeClassifier\n",
    "\n",
    "tree = DecisionTreeClassifier(random_state=0,max_depth=40)\n",
    "tree.fit(X_train, y_train)\n",
    "\n",
    "print(\"Decision Tree\")\n",
    "print(\"Accuracy on training set: {:.3f}\".format(tree.score(X_train, y_train)))\n",
    "print(\"Accuracy on test set: {:.3f}\".format(tree.score(X_test, y_test)))\n",
    "\n",
    "y_pred_tree = tree.predict(X_test)\n",
    "print(\"Predicted value: \",y_pred_tree)\n",
    "\n",
    "#precision, recall, fscore, support = precision_recall_fscore_support(y_test, y_pred_tree, average='micro')\n",
    "#print(\"Precision, Recall and fscore:\",precision, recall, fscore,)"
   ]
  },
  {
   "cell_type": "code",
   "execution_count": 162,
   "metadata": {},
   "outputs": [
    {
     "name": "stdout",
     "output_type": "stream",
     "text": [
      "Random Forest\n",
      "Accuracy on training set: 0.915\n",
      "Accuracy on test set: 0.003\n",
      "Predicted value:  [  157  1737 25885 ...   141  4738 24926]\n"
     ]
    }
   ],
   "source": [
    "#Train random forest model\n",
    "\n",
    "forest = RandomForestClassifier(n_estimators=5,random_state=0)\n",
    "forest.fit(X_train, y_train)\n",
    "\n",
    "print(\"Random Forest\")\n",
    "print(\"Accuracy on training set: {:.3f}\".format(forest.score(X_train, y_train)))\n",
    "print(\"Accuracy on test set: {:.3f}\".format(forest.score(X_test, y_test)))\n",
    "\n",
    "y_pred_forest = forest.predict(X_test)\n",
    "print(\"Predicted value: \",y_pred_forest)\n",
    "\n",
    "#precision, recall, fscore, support = precision_recall_fscore_support(y_test, y_pred_forest, average='micro')\n",
    "#print(\"Precision, Recall and fscore:\",precision, recall, fscore,)"
   ]
  },
  {
   "cell_type": "code",
   "execution_count": 163,
   "metadata": {
    "scrolled": false
   },
   "outputs": [
    {
     "name": "stdout",
     "output_type": "stream",
     "text": [
      "Regression\n",
      "Accuracy on training set: 0.739\n",
      "Accuracy on test set: 0.733\n",
      "Predicted value:  [  317.70429936  1039.61523206 24004.88046075 ...  2483.06286703\n",
      "  7022.31575702 29714.80008701]\n"
     ]
    }
   ],
   "source": [
    "from sklearn import linear_model\n",
    "\n",
    "regr = linear_model.LinearRegression()\n",
    "regr.fit(X_train, y_train)\n",
    "\n",
    "print(\"Regression\")\n",
    "print(\"Accuracy on training set: {:.3f}\".format(regr.score(X_train, y_train)))\n",
    "print(\"Accuracy on test set: {:.3f}\".format(regr.score(X_test, y_test)))\n",
    "\n",
    "y_pred_regression = regr.predict(X_test)\n",
    "print(\"Predicted value: \",y_pred_regression)\n",
    "\n",
    "#precision, recall, fscore, support = precision_recall_fscore_support(y_test, y_pred_forest, average='micro')\n",
    "#print(\"Precision, Recall and fscore:\",precision, recall, fscore,)\n"
   ]
  },
  {
   "cell_type": "code",
   "execution_count": 164,
   "metadata": {
    "scrolled": true
   },
   "outputs": [
    {
     "name": "stdout",
     "output_type": "stream",
     "text": [
      "Regression\n",
      "Accuracy on training set: 0.739\n",
      "Accuracy on test set: 0.733\n",
      "Accuracy on training set: 0.739\n",
      "Accuracy on test set: 0.733\n",
      "Predicted value:  [  317.70435866  1039.61527892 24004.88053373 ...  2483.06288902\n",
      "  7022.31562801 29714.80015878]\n",
      "Predicted value:  [  318.29707113  1040.0836723  24005.60998799 ...  2483.28269455\n",
      "  7021.02612057 29715.51756052]\n"
     ]
    }
   ],
   "source": [
    "from sklearn.linear_model import Ridge\n",
    "rr = Ridge(alpha=0.01) # higher the alpha value, more restriction on the coefficients; low alpha > more generalization, coefficients are barely\n",
    "# restricted and in this case linear and ridge regression resembles\n",
    "rr.fit(X_train, y_train)\n",
    "\n",
    "rr1 = Ridge(alpha=100) # higher the alpha value, more restriction on the coefficients; low alpha > more generalization, coefficients are barely\n",
    "rr1.fit(X_train, y_train)\n",
    "\n",
    "print(\"Regression\")\n",
    "print(\"Accuracy on training set: {:.3f}\".format(rr.score(X_train, y_train)))\n",
    "print(\"Accuracy on test set: {:.3f}\".format(rr.score(X_test, y_test)))\n",
    "print(\"Accuracy on training set: {:.3f}\".format(rr1.score(X_train, y_train)))\n",
    "print(\"Accuracy on test set: {:.3f}\".format(rr1.score(X_test, y_test)))\n",
    "\n",
    "y_pred_regression = rr.predict(X_test)\n",
    "print(\"Predicted value: \",y_pred_regression)\n",
    "y_pred_regression1 = rr1.predict(X_test)\n",
    "print(\"Predicted value: \",y_pred_regression1)\n"
   ]
  },
  {
   "cell_type": "code",
   "execution_count": 165,
   "metadata": {},
   "outputs": [
    {
     "name": "stdout",
     "output_type": "stream",
     "text": [
      "training score: 0.7394501507782465\n",
      "test score:  0.7325429160427119\n",
      "number of features used:  4\n",
      "training score for alpha=0.01: 0.7394501507834358\n",
      "test score for alpha =0.01:  0.73254289847191\n",
      "number of features used: for alpha =0.01: 4\n"
     ]
    }
   ],
   "source": [
    "from sklearn.linear_model import Lasso\n",
    "\n",
    "lasso = Lasso()\n",
    "lasso.fit(X_train,y_train)\n",
    "train_score=lasso.score(X_train,y_train)\n",
    "test_score=lasso.score(X_test,y_test)\n",
    "coeff_used = np.sum(lasso.coef_!=0)\n",
    "print (\"training score:\", train_score) \n",
    "print (\"test score: \", test_score)\n",
    "print (\"number of features used: \", coeff_used)\n",
    "\n",
    "\n",
    "lasso001 = Lasso(alpha=0.01, max_iter=10e5)\n",
    "lasso001.fit(X_train,y_train)\n",
    "train_score001=lasso001.score(X_train,y_train)\n",
    "test_score001=lasso001.score(X_test,y_test)\n",
    "coeff_used001 = np.sum(lasso001.coef_!=0)\n",
    "print (\"training score for alpha=0.01:\", train_score001)\n",
    "print (\"test score for alpha =0.01: \", test_score001)\n",
    "print (\"number of features used: for alpha =0.01:\", coeff_used001)\n"
   ]
  },
  {
   "cell_type": "code",
   "execution_count": 166,
   "metadata": {},
   "outputs": [],
   "source": [
    "#Plot the graph for feature selection for decision tree and random forest\n",
    "def plot_feature_importances_mydata(model):\n",
    "    n_features = X_train.shape[1]\n",
    "    print(n_features)\n",
    "    plt.figure(figsize=(8,6))\n",
    "    plt.barh(range(n_features), model.feature_importances_, align='center')\n",
    "    plt.yticks(np.arange(n_features), ['views','dislikes','comment_total','category_id'])\n",
    "    plt.title(\"Feature Selection\")\n",
    "    plt.xlabel(\"Variable importance\")\n",
    "    plt.ylabel(\"Independent Variable\")\n",
    "    plt.show()\n"
   ]
  },
  {
   "cell_type": "code",
   "execution_count": 167,
   "metadata": {},
   "outputs": [
    {
     "name": "stdout",
     "output_type": "stream",
     "text": [
      "4\n"
     ]
    },
    {
     "data": {
      "image/png": "[encoded data removed]",
      "text/plain": [
       "<Figure size 576x432 with 1 Axes>"
      ]
     },
     "metadata": {
      "needs_background": "light"
     },
     "output_type": "display_data"
    }
   ],
   "source": [
    "plot_feature_importances_mydata(tree)\n"
   ]
  },
  {
   "cell_type": "code",
   "execution_count": 168,
   "metadata": {},
   "outputs": [
    {
     "name": "stdout",
     "output_type": "stream",
     "text": [
      "4\n"
     ]
    },
    {
     "data": {
      "image/png": "[encoded data removed]",
      "text/plain": [
       "<Figure size 576x432 with 1 Axes>"
      ]
     },
     "metadata": {
      "needs_background": "light"
     },
     "output_type": "display_data"
    }
   ],
   "source": [
    "plot_feature_importances_mydata(forest)\n"
   ]
  },
  {
   "cell_type": "code",
   "execution_count": null,
   "metadata": {},
   "outputs": [],
   "source": []
  }
 ],
 "metadata": {
  "kernelspec": {
   "display_name": "Python 3",
   "language": "python",
   "name": "python3"
  },
  "language_info": {
   "codemirror_mode": {
    "name": "ipython",
    "version": 3
   },
   "file_extension": ".py",
   "mimetype": "text/x-python",
   "name": "python",
   "nbconvert_exporter": "python",
   "pygments_lexer": "ipython3",
   "version": "3.7.1"
  }
 },
 "nbformat": 4,
 "nbformat_minor": 2
}
