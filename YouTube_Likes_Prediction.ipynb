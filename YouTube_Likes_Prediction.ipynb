{
 "cells": [
  {
   "cell_type": "code",
   "execution_count": 99,
   "metadata": {},
   "outputs": [],
   "source": [
    "import pandas as pd\n",
    "import numpy as np\n",
    "\n",
    "import matplotlib.pyplot as plt\n",
    "import matplotlib.gridspec as gridspec\n",
    "import seaborn as sns\n",
    "import plotly.graph_objs as go\n",
    "from plotly import tools\n",
    "import plotly.plotly as py\n",
    "from plotly.plotly import iplot\n",
    "\n",
    "from textwrap import wrap\n",
    "from datetime import date, timedelta\n",
    "\n",
    "\n",
    "from sklearn.model_selection import train_test_split\n",
    "from sklearn.ensemble import RandomForestClassifier"
   ]
  },
  {
   "cell_type": "code",
   "execution_count": 100,
   "metadata": {},
   "outputs": [],
   "source": [
    "col_names = ['video_id','title','channel_title','category_id','tags','views','likes','dislikes','comment_total','thumbnail_link','date']\n",
    "\n",
    "video_data = pd.read_csv('USvideos.csv',usecols = col_names)"
   ]
  },
  {
   "cell_type": "code",
   "execution_count": 101,
   "metadata": {},
   "outputs": [
    {
     "data": {
      "text/html": [
       "<div>\n",
       "<style scoped>\n",
       "    .dataframe tbody tr th:only-of-type {\n",
       "        vertical-align: middle;\n",
       "    }\n",
       "\n",
       "    .dataframe tbody tr th {\n",
       "        vertical-align: top;\n",
       "    }\n",
       "\n",
       "    .dataframe thead th {\n",
       "        text-align: right;\n",
       "    }\n",
       "</style>\n",
       "<table border=\"1\" class=\"dataframe\">\n",
       "  <thead>\n",
       "    <tr style=\"text-align: right;\">\n",
       "      <th></th>\n",
       "      <th>video_id</th>\n",
       "      <th>title</th>\n",
       "      <th>channel_title</th>\n",
       "      <th>category_id</th>\n",
       "      <th>tags</th>\n",
       "      <th>views</th>\n",
       "      <th>likes</th>\n",
       "      <th>dislikes</th>\n",
       "      <th>comment_total</th>\n",
       "      <th>thumbnail_link</th>\n",
       "      <th>date</th>\n",
       "    </tr>\n",
       "  </thead>\n",
       "  <tbody>\n",
       "    <tr>\n",
       "      <th>0</th>\n",
       "      <td>XpVt6Z1Gjjo</td>\n",
       "      <td>1 YEAR OF VLOGGING -- HOW LOGAN PAUL CHANGED Y...</td>\n",
       "      <td>Logan Paul Vlogs</td>\n",
       "      <td>24</td>\n",
       "      <td>logan paul vlog|logan paul|logan|paul|olympics...</td>\n",
       "      <td>4394029</td>\n",
       "      <td>320053</td>\n",
       "      <td>5931</td>\n",
       "      <td>46245</td>\n",
       "      <td>https://i.ytimg.com/vi/XpVt6Z1Gjjo/default.jpg</td>\n",
       "      <td>13.09</td>\n",
       "    </tr>\n",
       "    <tr>\n",
       "      <th>1</th>\n",
       "      <td>K4wEI5zhHB0</td>\n",
       "      <td>iPhone X — Introducing iPhone X — Apple</td>\n",
       "      <td>Apple</td>\n",
       "      <td>28</td>\n",
       "      <td>Apple|iPhone 10|iPhone Ten|iPhone|Portrait Lig...</td>\n",
       "      <td>7860119</td>\n",
       "      <td>185853</td>\n",
       "      <td>26679</td>\n",
       "      <td>0</td>\n",
       "      <td>https://i.ytimg.com/vi/K4wEI5zhHB0/default.jpg</td>\n",
       "      <td>13.09</td>\n",
       "    </tr>\n",
       "    <tr>\n",
       "      <th>2</th>\n",
       "      <td>cLdxuaxaQwc</td>\n",
       "      <td>My Response</td>\n",
       "      <td>PewDiePie</td>\n",
       "      <td>22</td>\n",
       "      <td>[none]</td>\n",
       "      <td>5845909</td>\n",
       "      <td>576597</td>\n",
       "      <td>39774</td>\n",
       "      <td>170708</td>\n",
       "      <td>https://i.ytimg.com/vi/cLdxuaxaQwc/default.jpg</td>\n",
       "      <td>13.09</td>\n",
       "    </tr>\n",
       "  </tbody>\n",
       "</table>\n",
       "</div>"
      ],
      "text/plain": [
       "      video_id                                              title  \\\n",
       "0  XpVt6Z1Gjjo  1 YEAR OF VLOGGING -- HOW LOGAN PAUL CHANGED Y...   \n",
       "1  K4wEI5zhHB0            iPhone X — Introducing iPhone X — Apple   \n",
       "2  cLdxuaxaQwc                                        My Response   \n",
       "\n",
       "      channel_title  category_id  \\\n",
       "0  Logan Paul Vlogs           24   \n",
       "1             Apple           28   \n",
       "2         PewDiePie           22   \n",
       "\n",
       "                                                tags    views   likes  \\\n",
       "0  logan paul vlog|logan paul|logan|paul|olympics...  4394029  320053   \n",
       "1  Apple|iPhone 10|iPhone Ten|iPhone|Portrait Lig...  7860119  185853   \n",
       "2                                             [none]  5845909  576597   \n",
       "\n",
       "   dislikes  comment_total                                  thumbnail_link  \\\n",
       "0      5931          46245  https://i.ytimg.com/vi/XpVt6Z1Gjjo/default.jpg   \n",
       "1     26679              0  https://i.ytimg.com/vi/K4wEI5zhHB0/default.jpg   \n",
       "2     39774         170708  https://i.ytimg.com/vi/cLdxuaxaQwc/default.jpg   \n",
       "\n",
       "    date  \n",
       "0  13.09  \n",
       "1  13.09  \n",
       "2  13.09  "
      ]
     },
     "execution_count": 101,
     "metadata": {},
     "output_type": "execute_result"
    }
   ],
   "source": [
    "video_data.head(3)"
   ]
  },
  {
   "cell_type": "code",
   "execution_count": 102,
   "metadata": {},
   "outputs": [
    {
     "data": {
      "text/plain": [
       "video_id          0\n",
       "title             0\n",
       "channel_title     0\n",
       "category_id       0\n",
       "tags              0\n",
       "views             0\n",
       "likes             0\n",
       "dislikes          0\n",
       "comment_total     0\n",
       "thumbnail_link    0\n",
       "date              0\n",
       "dtype: int64"
      ]
     },
     "execution_count": 102,
     "metadata": {},
     "output_type": "execute_result"
    }
   ],
   "source": [
    "video_data.isna().sum()"
   ]
  },
  {
   "cell_type": "code",
   "execution_count": 103,
   "metadata": {},
   "outputs": [
    {
     "data": {
      "text/plain": [
       "array(['13.09', '14.09', '15.09', '16.09', '17.09', '18.09', '19.09',\n",
       "       '20.09', '21.09', '22.09', '23.09', '24.09', '25.09', '26.09',\n",
       "       '26.0903jeumSTSzc', '27.09', '28.09', '29.09', '30.09', '1.1',\n",
       "       '2.1', '3.1', '4.1', '5.1', '6.1', '7.1', '8.1', '9.1', '100',\n",
       "       '10.1', '11.1', '12.1', '13.1', '14.1', '15.1', '16.1', '17.1',\n",
       "       '18.1', '19.1', '20.1', '21.1', '22.1'], dtype=object)"
      ]
     },
     "execution_count": 103,
     "metadata": {},
     "output_type": "execute_result"
    }
   ],
   "source": [
    "video_data['date'].unique()\n"
   ]
  },
  {
   "cell_type": "code",
   "execution_count": 104,
   "metadata": {},
   "outputs": [],
   "source": [
    "#Replacing incorrect date values\n",
    "\n",
    "video_data.loc[video_data['date'] == '26.0903jeumSTSzc', 'date'] = '26.09'\n",
    "video_data.loc[video_data['date'] == '100', 'date'] = '9.1'\n"
   ]
  },
  {
   "cell_type": "code",
   "execution_count": 96,
   "metadata": {},
   "outputs": [
    {
     "data": {
      "text/plain": [
       "array(['13.09', '14.09', '15.09', '16.09', '17.09', '18.09', '19.09',\n",
       "       '20.09', '21.09', '22.09', '23.09', '24.09', '25.09', '26.09',\n",
       "       '27.09', '28.09', '29.09', '30.09', '1.1', '2.1', '3.1', '4.1',\n",
       "       '5.1', '6.1', '7.1', '8.1', '9.1', '10.1', '11.1', '12.1', '13.1',\n",
       "       '14.1', '15.1', '16.1', '17.1', '18.1', '19.1', '20.1', '21.1',\n",
       "       '22.1'], dtype=object)"
      ]
     },
     "execution_count": 96,
     "metadata": {},
     "output_type": "execute_result"
    }
   ],
   "source": [
    "video_data['date'].unique()"
   ]
  },
  {
   "cell_type": "code",
   "execution_count": 97,
   "metadata": {},
   "outputs": [],
   "source": [
    "#Changing the format of date\n",
    "video_data['date'] = video_data['date'].apply(lambda x: pd.to_datetime(str(x).replace('.','')+\"2017\",\n",
    "                                                                     format='%d%m%Y'))\n",
    "video_data['date'] = video_data['date'].dt.date"
   ]
  },
  {
   "cell_type": "code",
   "execution_count": 106,
   "metadata": {},
   "outputs": [],
   "source": [
    "for i in video_data['date']:\n",
    "    video_data['day'] = i.split('.')[0]\n",
    "    video_data['month'] = i.split('.')[1]\n"
   ]
  },
  {
   "cell_type": "code",
   "execution_count": 107,
   "metadata": {},
   "outputs": [
    {
     "data": {
      "text/html": [
       "<div>\n",
       "<style scoped>\n",
       "    .dataframe tbody tr th:only-of-type {\n",
       "        vertical-align: middle;\n",
       "    }\n",
       "\n",
       "    .dataframe tbody tr th {\n",
       "        vertical-align: top;\n",
       "    }\n",
       "\n",
       "    .dataframe thead th {\n",
       "        text-align: right;\n",
       "    }\n",
       "</style>\n",
       "<table border=\"1\" class=\"dataframe\">\n",
       "  <thead>\n",
       "    <tr style=\"text-align: right;\">\n",
       "      <th></th>\n",
       "      <th>video_id</th>\n",
       "      <th>title</th>\n",
       "      <th>channel_title</th>\n",
       "      <th>category_id</th>\n",
       "      <th>tags</th>\n",
       "      <th>views</th>\n",
       "      <th>likes</th>\n",
       "      <th>dislikes</th>\n",
       "      <th>comment_total</th>\n",
       "      <th>thumbnail_link</th>\n",
       "      <th>date</th>\n",
       "      <th>day</th>\n",
       "      <th>month</th>\n",
       "    </tr>\n",
       "  </thead>\n",
       "  <tbody>\n",
       "    <tr>\n",
       "      <th>0</th>\n",
       "      <td>XpVt6Z1Gjjo</td>\n",
       "      <td>1 YEAR OF VLOGGING -- HOW LOGAN PAUL CHANGED Y...</td>\n",
       "      <td>Logan Paul Vlogs</td>\n",
       "      <td>24</td>\n",
       "      <td>logan paul vlog|logan paul|logan|paul|olympics...</td>\n",
       "      <td>4394029</td>\n",
       "      <td>320053</td>\n",
       "      <td>5931</td>\n",
       "      <td>46245</td>\n",
       "      <td>https://i.ytimg.com/vi/XpVt6Z1Gjjo/default.jpg</td>\n",
       "      <td>13.09</td>\n",
       "      <td>22</td>\n",
       "      <td>1</td>\n",
       "    </tr>\n",
       "    <tr>\n",
       "      <th>1</th>\n",
       "      <td>K4wEI5zhHB0</td>\n",
       "      <td>iPhone X — Introducing iPhone X — Apple</td>\n",
       "      <td>Apple</td>\n",
       "      <td>28</td>\n",
       "      <td>Apple|iPhone 10|iPhone Ten|iPhone|Portrait Lig...</td>\n",
       "      <td>7860119</td>\n",
       "      <td>185853</td>\n",
       "      <td>26679</td>\n",
       "      <td>0</td>\n",
       "      <td>https://i.ytimg.com/vi/K4wEI5zhHB0/default.jpg</td>\n",
       "      <td>13.09</td>\n",
       "      <td>22</td>\n",
       "      <td>1</td>\n",
       "    </tr>\n",
       "    <tr>\n",
       "      <th>2</th>\n",
       "      <td>cLdxuaxaQwc</td>\n",
       "      <td>My Response</td>\n",
       "      <td>PewDiePie</td>\n",
       "      <td>22</td>\n",
       "      <td>[none]</td>\n",
       "      <td>5845909</td>\n",
       "      <td>576597</td>\n",
       "      <td>39774</td>\n",
       "      <td>170708</td>\n",
       "      <td>https://i.ytimg.com/vi/cLdxuaxaQwc/default.jpg</td>\n",
       "      <td>13.09</td>\n",
       "      <td>22</td>\n",
       "      <td>1</td>\n",
       "    </tr>\n",
       "    <tr>\n",
       "      <th>3</th>\n",
       "      <td>WYYvHb03Eog</td>\n",
       "      <td>Apple iPhone X first look</td>\n",
       "      <td>The Verge</td>\n",
       "      <td>28</td>\n",
       "      <td>apple iphone x hands on|Apple iPhone X|iPhone ...</td>\n",
       "      <td>2642103</td>\n",
       "      <td>24975</td>\n",
       "      <td>4542</td>\n",
       "      <td>12829</td>\n",
       "      <td>https://i.ytimg.com/vi/WYYvHb03Eog/default.jpg</td>\n",
       "      <td>13.09</td>\n",
       "      <td>22</td>\n",
       "      <td>1</td>\n",
       "    </tr>\n",
       "    <tr>\n",
       "      <th>4</th>\n",
       "      <td>sjlHnJvXdQs</td>\n",
       "      <td>iPhone X (parody)</td>\n",
       "      <td>jacksfilms</td>\n",
       "      <td>23</td>\n",
       "      <td>jacksfilms|parody|parodies|iphone|iphone x|iph...</td>\n",
       "      <td>1168130</td>\n",
       "      <td>96666</td>\n",
       "      <td>568</td>\n",
       "      <td>6666</td>\n",
       "      <td>https://i.ytimg.com/vi/sjlHnJvXdQs/default.jpg</td>\n",
       "      <td>13.09</td>\n",
       "      <td>22</td>\n",
       "      <td>1</td>\n",
       "    </tr>\n",
       "  </tbody>\n",
       "</table>\n",
       "</div>"
      ],
      "text/plain": [
       "      video_id                                              title  \\\n",
       "0  XpVt6Z1Gjjo  1 YEAR OF VLOGGING -- HOW LOGAN PAUL CHANGED Y...   \n",
       "1  K4wEI5zhHB0            iPhone X — Introducing iPhone X — Apple   \n",
       "2  cLdxuaxaQwc                                        My Response   \n",
       "3  WYYvHb03Eog                          Apple iPhone X first look   \n",
       "4  sjlHnJvXdQs                                  iPhone X (parody)   \n",
       "\n",
       "      channel_title  category_id  \\\n",
       "0  Logan Paul Vlogs           24   \n",
       "1             Apple           28   \n",
       "2         PewDiePie           22   \n",
       "3         The Verge           28   \n",
       "4        jacksfilms           23   \n",
       "\n",
       "                                                tags    views   likes  \\\n",
       "0  logan paul vlog|logan paul|logan|paul|olympics...  4394029  320053   \n",
       "1  Apple|iPhone 10|iPhone Ten|iPhone|Portrait Lig...  7860119  185853   \n",
       "2                                             [none]  5845909  576597   \n",
       "3  apple iphone x hands on|Apple iPhone X|iPhone ...  2642103   24975   \n",
       "4  jacksfilms|parody|parodies|iphone|iphone x|iph...  1168130   96666   \n",
       "\n",
       "   dislikes  comment_total                                  thumbnail_link  \\\n",
       "0      5931          46245  https://i.ytimg.com/vi/XpVt6Z1Gjjo/default.jpg   \n",
       "1     26679              0  https://i.ytimg.com/vi/K4wEI5zhHB0/default.jpg   \n",
       "2     39774         170708  https://i.ytimg.com/vi/cLdxuaxaQwc/default.jpg   \n",
       "3      4542          12829  https://i.ytimg.com/vi/WYYvHb03Eog/default.jpg   \n",
       "4       568           6666  https://i.ytimg.com/vi/sjlHnJvXdQs/default.jpg   \n",
       "\n",
       "    date day month  \n",
       "0  13.09  22     1  \n",
       "1  13.09  22     1  \n",
       "2  13.09  22     1  \n",
       "3  13.09  22     1  \n",
       "4  13.09  22     1  "
      ]
     },
     "execution_count": 107,
     "metadata": {},
     "output_type": "execute_result"
    }
   ],
   "source": [
    "video_data.head()"
   ]
  },
  {
   "cell_type": "code",
   "execution_count": 108,
   "metadata": {},
   "outputs": [
    {
     "data": {
      "text/plain": [
       "(7998, 13)"
      ]
     },
     "execution_count": 108,
     "metadata": {},
     "output_type": "execute_result"
    }
   ],
   "source": [
    "video_data.shape"
   ]
  },
  {
   "cell_type": "code",
   "execution_count": 109,
   "metadata": {},
   "outputs": [
    {
     "data": {
      "text/plain": [
       "(7998, 13)"
      ]
     },
     "execution_count": 109,
     "metadata": {},
     "output_type": "execute_result"
    }
   ],
   "source": [
    "video_data.drop_duplicates()\n",
    "video_data.shape"
   ]
  },
  {
   "cell_type": "code",
   "execution_count": 12,
   "metadata": {},
   "outputs": [],
   "source": [
    "#Top Viewed videos\n",
    "top_views = video_data.sort_values(['views'],ascending=False)\n",
    "top_100_views = top_views.head(100)"
   ]
  },
  {
   "cell_type": "code",
   "execution_count": 277,
   "metadata": {
    "scrolled": true
   },
   "outputs": [
    {
     "data": {
      "text/plain": [
       "Text(0.5, 1.0, 'MOST VIEWED CHANNELS')"
      ]
     },
     "execution_count": 277,
     "metadata": {},
     "output_type": "execute_result"
    },
    {
     "data": {
      "image/png": "[encoded data removed]",
      "text/plain": [
       "<Figure size 720x432 with 1 Axes>"
      ]
     },
     "metadata": {
      "needs_background": "light"
     },
     "output_type": "display_data"
    }
   ],
   "source": [
    "#Top Channel Titles based on views\n",
    "\n",
    "top_100_views['channel_title'].value_counts().plot('bar',figsize=[10,6])\n",
    "plt.xlabel('Channel Title')\n",
    "plt.ylabel('Number of Views')\n",
    "plt.title('MOST VIEWED CHANNELS')\n"
   ]
  },
  {
   "cell_type": "code",
   "execution_count": 342,
   "metadata": {},
   "outputs": [
    {
     "name": "stderr",
     "output_type": "stream",
     "text": [
      "C:\\Users\\monic\\Anaconda3\\lib\\site-packages\\pandas\\plotting\\_core.py:194: UserWarning:\n",
      "\n",
      "'colors' is being deprecated. Please use 'color'instead of 'colors'\n",
      "\n"
     ]
    },
    {
     "data": {
      "text/plain": [
       "Text(0.5, 1.0, 'MOST VIEWED VIDEO CATEGORY')"
      ]
     },
     "execution_count": 342,
     "metadata": {},
     "output_type": "execute_result"
    },
    {
     "data": {
      "image/png": "[encoded data removed]",
      "text/plain": [
       "<Figure size 720x432 with 1 Axes>"
      ]
     },
     "metadata": {
      "needs_background": "light"
     },
     "output_type": "display_data"
    }
   ],
   "source": [
    "#Top Categories based on views\n",
    "\n",
    "ax = top_100_views['category_id'].value_counts().plot('bar',figsize=[10,6],colors=['darkcyan','cornflowerblue', 'darkorange',\n",
    "'firebrick', 'darkgoldenrod', 'darksalmon','deeppink'])\n",
    "ax.set_xticklabels(['Music','Entertainment','People & Blogs','Sports','News & Politics','Science & Technology','Comedy'])\n",
    "plt.xlabel('Category')\n",
    "plt.ylabel('Number of Views')\n",
    "plt.title('MOST VIEWED VIDEO CATEGORY')\n",
    "\n"
   ]
  },
  {
   "cell_type": "code",
   "execution_count": 13,
   "metadata": {},
   "outputs": [],
   "source": [
    "#Top Liked videos \n",
    "top_likes = video_data.sort_values(['likes'],ascending=False)\n",
    "top_100_likes = top_likes.head(100)"
   ]
  },
  {
   "cell_type": "code",
   "execution_count": 14,
   "metadata": {},
   "outputs": [
    {
     "data": {
      "text/html": [
       "<div>\n",
       "<style scoped>\n",
       "    .dataframe tbody tr th:only-of-type {\n",
       "        vertical-align: middle;\n",
       "    }\n",
       "\n",
       "    .dataframe tbody tr th {\n",
       "        vertical-align: top;\n",
       "    }\n",
       "\n",
       "    .dataframe thead th {\n",
       "        text-align: right;\n",
       "    }\n",
       "</style>\n",
       "<table border=\"1\" class=\"dataframe\">\n",
       "  <thead>\n",
       "    <tr style=\"text-align: right;\">\n",
       "      <th></th>\n",
       "      <th>video_id</th>\n",
       "      <th>title</th>\n",
       "      <th>channel_title</th>\n",
       "      <th>category_id</th>\n",
       "      <th>tags</th>\n",
       "      <th>views</th>\n",
       "      <th>likes</th>\n",
       "      <th>dislikes</th>\n",
       "      <th>comment_total</th>\n",
       "      <th>thumbnail_link</th>\n",
       "      <th>date</th>\n",
       "    </tr>\n",
       "  </thead>\n",
       "  <tbody>\n",
       "    <tr>\n",
       "      <th>1907</th>\n",
       "      <td>MBdVXkSdhwU</td>\n",
       "      <td>BTS (방탄소년단) 'DNA' Official MV</td>\n",
       "      <td>ibighit</td>\n",
       "      <td>10</td>\n",
       "      <td>BIGHIT|빅히트|방탄소년단|BTS|BANGTAN|방탄</td>\n",
       "      <td>41500672</td>\n",
       "      <td>2010366</td>\n",
       "      <td>78076</td>\n",
       "      <td>736179</td>\n",
       "      <td>https://i.ytimg.com/vi/MBdVXkSdhwU/default.jpg</td>\n",
       "      <td>2017-09-22</td>\n",
       "    </tr>\n",
       "    <tr>\n",
       "      <th>1694</th>\n",
       "      <td>MBdVXkSdhwU</td>\n",
       "      <td>BTS (방탄소년단) 'DNA' Official MV</td>\n",
       "      <td>ibighit</td>\n",
       "      <td>10</td>\n",
       "      <td>BIGHIT|빅히트|방탄소년단|BTS|BANGTAN|방탄</td>\n",
       "      <td>38013692</td>\n",
       "      <td>1950475</td>\n",
       "      <td>75294</td>\n",
       "      <td>713293</td>\n",
       "      <td>https://i.ytimg.com/vi/MBdVXkSdhwU/default.jpg</td>\n",
       "      <td>2017-09-21</td>\n",
       "    </tr>\n",
       "    <tr>\n",
       "      <th>1440</th>\n",
       "      <td>MBdVXkSdhwU</td>\n",
       "      <td>BTS (방탄소년단) 'DNA' Official MV</td>\n",
       "      <td>ibighit</td>\n",
       "      <td>10</td>\n",
       "      <td>BIGHIT|빅히트|방탄소년단|BTS|BANGTAN|방탄</td>\n",
       "      <td>30424471</td>\n",
       "      <td>1762428</td>\n",
       "      <td>63990</td>\n",
       "      <td>582624</td>\n",
       "      <td>https://i.ytimg.com/vi/MBdVXkSdhwU/default.jpg</td>\n",
       "      <td>2017-09-20</td>\n",
       "    </tr>\n",
       "  </tbody>\n",
       "</table>\n",
       "</div>"
      ],
      "text/plain": [
       "         video_id                          title channel_title  category_id  \\\n",
       "1907  MBdVXkSdhwU  BTS (방탄소년단) 'DNA' Official MV       ibighit           10   \n",
       "1694  MBdVXkSdhwU  BTS (방탄소년단) 'DNA' Official MV       ibighit           10   \n",
       "1440  MBdVXkSdhwU  BTS (방탄소년단) 'DNA' Official MV       ibighit           10   \n",
       "\n",
       "                                 tags     views    likes  dislikes  \\\n",
       "1907  BIGHIT|빅히트|방탄소년단|BTS|BANGTAN|방탄  41500672  2010366     78076   \n",
       "1694  BIGHIT|빅히트|방탄소년단|BTS|BANGTAN|방탄  38013692  1950475     75294   \n",
       "1440  BIGHIT|빅히트|방탄소년단|BTS|BANGTAN|방탄  30424471  1762428     63990   \n",
       "\n",
       "      comment_total                                  thumbnail_link  \\\n",
       "1907         736179  https://i.ytimg.com/vi/MBdVXkSdhwU/default.jpg   \n",
       "1694         713293  https://i.ytimg.com/vi/MBdVXkSdhwU/default.jpg   \n",
       "1440         582624  https://i.ytimg.com/vi/MBdVXkSdhwU/default.jpg   \n",
       "\n",
       "            date  \n",
       "1907  2017-09-22  \n",
       "1694  2017-09-21  \n",
       "1440  2017-09-20  "
      ]
     },
     "execution_count": 14,
     "metadata": {},
     "output_type": "execute_result"
    }
   ],
   "source": [
    "top_100_likes.head(3)"
   ]
  },
  {
   "cell_type": "code",
   "execution_count": 15,
   "metadata": {},
   "outputs": [
    {
     "data": {
      "text/plain": [
       "Text(0.5, 1.0, 'MOST LIKED CHANNELS')"
      ]
     },
     "execution_count": 15,
     "metadata": {},
     "output_type": "execute_result"
    },
    {
     "data": {
      "image/png": "[encoded data removed]",
      "text/plain": [
       "<Figure size 720x432 with 1 Axes>"
      ]
     },
     "metadata": {
      "needs_background": "light"
     },
     "output_type": "display_data"
    }
   ],
   "source": [
    "#Top Channel Titles based on views\n",
    "\n",
    "top_100_likes['channel_title'].value_counts().plot('bar',figsize=[10,6])\n",
    "plt.xlabel('Channel Title')\n",
    "plt.ylabel('Number of Likes')\n",
    "plt.title('MOST LIKED CHANNELS')\n"
   ]
  },
  {
   "cell_type": "code",
   "execution_count": 16,
   "metadata": {},
   "outputs": [
    {
     "name": "stderr",
     "output_type": "stream",
     "text": [
      "C:\\Users\\monic\\Anaconda3\\lib\\site-packages\\pandas\\plotting\\_core.py:194: UserWarning:\n",
      "\n",
      "'colors' is being deprecated. Please use 'color'instead of 'colors'\n",
      "\n"
     ]
    },
    {
     "data": {
      "text/plain": [
       "Text(0.5, 1.0, 'MOST LIKED VIDEO CATEGORY')"
      ]
     },
     "execution_count": 16,
     "metadata": {},
     "output_type": "execute_result"
    },
    {
     "data": {
      "image/png": "[encoded data removed]",
      "text/plain": [
       "<Figure size 720x432 with 1 Axes>"
      ]
     },
     "metadata": {
      "needs_background": "light"
     },
     "output_type": "display_data"
    }
   ],
   "source": [
    "#Top Categories based on likes\n",
    "\n",
    "ax = top_100_likes['category_id'].value_counts().plot('bar',figsize=[10,6], colors=['darkcyan','cornflowerblue', 'darkorange',\n",
    "'firebrick', 'darkgoldenrod', 'darksalmon','deeppink'])\n",
    "ax.set_xticklabels(['Music','Entertainment','Comedy', 'People & Blogs','Sports','Howto & Style','Science & Technology'])\n",
    "plt.xlabel('Category')\n",
    "plt.ylabel('Number of Likes')\n",
    "plt.title('MOST LIKED VIDEO CATEGORY')\n"
   ]
  },
  {
   "cell_type": "code",
   "execution_count": 17,
   "metadata": {},
   "outputs": [],
   "source": [
    "#Top Commented videos \n",
    "top_commented_videos = video_data.sort_values(['comment_total'],ascending=False)\n",
    "top_100_commented_videos = top_commented_videos.head(100)"
   ]
  },
  {
   "cell_type": "code",
   "execution_count": 18,
   "metadata": {},
   "outputs": [
    {
     "data": {
      "text/html": [
       "<div>\n",
       "<style scoped>\n",
       "    .dataframe tbody tr th:only-of-type {\n",
       "        vertical-align: middle;\n",
       "    }\n",
       "\n",
       "    .dataframe tbody tr th {\n",
       "        vertical-align: top;\n",
       "    }\n",
       "\n",
       "    .dataframe thead th {\n",
       "        text-align: right;\n",
       "    }\n",
       "</style>\n",
       "<table border=\"1\" class=\"dataframe\">\n",
       "  <thead>\n",
       "    <tr style=\"text-align: right;\">\n",
       "      <th></th>\n",
       "      <th>video_id</th>\n",
       "      <th>title</th>\n",
       "      <th>channel_title</th>\n",
       "      <th>category_id</th>\n",
       "      <th>tags</th>\n",
       "      <th>views</th>\n",
       "      <th>likes</th>\n",
       "      <th>dislikes</th>\n",
       "      <th>comment_total</th>\n",
       "      <th>thumbnail_link</th>\n",
       "      <th>date</th>\n",
       "    </tr>\n",
       "  </thead>\n",
       "  <tbody>\n",
       "    <tr>\n",
       "      <th>1907</th>\n",
       "      <td>MBdVXkSdhwU</td>\n",
       "      <td>BTS (방탄소년단) 'DNA' Official MV</td>\n",
       "      <td>ibighit</td>\n",
       "      <td>10</td>\n",
       "      <td>BIGHIT|빅히트|방탄소년단|BTS|BANGTAN|방탄</td>\n",
       "      <td>41500672</td>\n",
       "      <td>2010366</td>\n",
       "      <td>78076</td>\n",
       "      <td>736179</td>\n",
       "      <td>https://i.ytimg.com/vi/MBdVXkSdhwU/default.jpg</td>\n",
       "      <td>2017-09-22</td>\n",
       "    </tr>\n",
       "    <tr>\n",
       "      <th>1694</th>\n",
       "      <td>MBdVXkSdhwU</td>\n",
       "      <td>BTS (방탄소년단) 'DNA' Official MV</td>\n",
       "      <td>ibighit</td>\n",
       "      <td>10</td>\n",
       "      <td>BIGHIT|빅히트|방탄소년단|BTS|BANGTAN|방탄</td>\n",
       "      <td>38013692</td>\n",
       "      <td>1950475</td>\n",
       "      <td>75294</td>\n",
       "      <td>713293</td>\n",
       "      <td>https://i.ytimg.com/vi/MBdVXkSdhwU/default.jpg</td>\n",
       "      <td>2017-09-21</td>\n",
       "    </tr>\n",
       "    <tr>\n",
       "      <th>1440</th>\n",
       "      <td>MBdVXkSdhwU</td>\n",
       "      <td>BTS (방탄소년단) 'DNA' Official MV</td>\n",
       "      <td>ibighit</td>\n",
       "      <td>10</td>\n",
       "      <td>BIGHIT|빅히트|방탄소년단|BTS|BANGTAN|방탄</td>\n",
       "      <td>30424471</td>\n",
       "      <td>1762428</td>\n",
       "      <td>63990</td>\n",
       "      <td>582624</td>\n",
       "      <td>https://i.ytimg.com/vi/MBdVXkSdhwU/default.jpg</td>\n",
       "      <td>2017-09-20</td>\n",
       "    </tr>\n",
       "    <tr>\n",
       "      <th>1203</th>\n",
       "      <td>MBdVXkSdhwU</td>\n",
       "      <td>BTS (방탄소년단) 'DNA' Official MV</td>\n",
       "      <td>ibighit</td>\n",
       "      <td>10</td>\n",
       "      <td>BIGHIT|빅히트|방탄소년단|BTS|BANGTAN|방탄</td>\n",
       "      <td>20565649</td>\n",
       "      <td>1478119</td>\n",
       "      <td>46477</td>\n",
       "      <td>501435</td>\n",
       "      <td>https://i.ytimg.com/vi/MBdVXkSdhwU/default.jpg</td>\n",
       "      <td>2017-09-19</td>\n",
       "    </tr>\n",
       "    <tr>\n",
       "      <th>7141</th>\n",
       "      <td>LunHybOKIjU</td>\n",
       "      <td>Eminem Rips Donald Trump In BET Hip Hop Awards...</td>\n",
       "      <td>BETNetworks</td>\n",
       "      <td>24</td>\n",
       "      <td>BET|BET Networks|BET Music|Black Entertainment...</td>\n",
       "      <td>33191594</td>\n",
       "      <td>982842</td>\n",
       "      <td>184310</td>\n",
       "      <td>337603</td>\n",
       "      <td>https://i.ytimg.com/vi/LunHybOKIjU/default.jpg</td>\n",
       "      <td>2017-01-18</td>\n",
       "    </tr>\n",
       "  </tbody>\n",
       "</table>\n",
       "</div>"
      ],
      "text/plain": [
       "         video_id                                              title  \\\n",
       "1907  MBdVXkSdhwU                      BTS (방탄소년단) 'DNA' Official MV   \n",
       "1694  MBdVXkSdhwU                      BTS (방탄소년단) 'DNA' Official MV   \n",
       "1440  MBdVXkSdhwU                      BTS (방탄소년단) 'DNA' Official MV   \n",
       "1203  MBdVXkSdhwU                      BTS (방탄소년단) 'DNA' Official MV   \n",
       "7141  LunHybOKIjU  Eminem Rips Donald Trump In BET Hip Hop Awards...   \n",
       "\n",
       "     channel_title  category_id  \\\n",
       "1907       ibighit           10   \n",
       "1694       ibighit           10   \n",
       "1440       ibighit           10   \n",
       "1203       ibighit           10   \n",
       "7141   BETNetworks           24   \n",
       "\n",
       "                                                   tags     views    likes  \\\n",
       "1907                    BIGHIT|빅히트|방탄소년단|BTS|BANGTAN|방탄  41500672  2010366   \n",
       "1694                    BIGHIT|빅히트|방탄소년단|BTS|BANGTAN|방탄  38013692  1950475   \n",
       "1440                    BIGHIT|빅히트|방탄소년단|BTS|BANGTAN|방탄  30424471  1762428   \n",
       "1203                    BIGHIT|빅히트|방탄소년단|BTS|BANGTAN|방탄  20565649  1478119   \n",
       "7141  BET|BET Networks|BET Music|Black Entertainment...  33191594   982842   \n",
       "\n",
       "      dislikes  comment_total                                  thumbnail_link  \\\n",
       "1907     78076         736179  https://i.ytimg.com/vi/MBdVXkSdhwU/default.jpg   \n",
       "1694     75294         713293  https://i.ytimg.com/vi/MBdVXkSdhwU/default.jpg   \n",
       "1440     63990         582624  https://i.ytimg.com/vi/MBdVXkSdhwU/default.jpg   \n",
       "1203     46477         501435  https://i.ytimg.com/vi/MBdVXkSdhwU/default.jpg   \n",
       "7141    184310         337603  https://i.ytimg.com/vi/LunHybOKIjU/default.jpg   \n",
       "\n",
       "            date  \n",
       "1907  2017-09-22  \n",
       "1694  2017-09-21  \n",
       "1440  2017-09-20  \n",
       "1203  2017-09-19  \n",
       "7141  2017-01-18  "
      ]
     },
     "execution_count": 18,
     "metadata": {},
     "output_type": "execute_result"
    }
   ],
   "source": [
    "top_100_commented_videos.head(5)"
   ]
  },
  {
   "cell_type": "code",
   "execution_count": 19,
   "metadata": {},
   "outputs": [
    {
     "data": {
      "text/plain": [
       "Text(0.5, 1.0, 'MOST COMMENTED CHANNELS')"
      ]
     },
     "execution_count": 19,
     "metadata": {},
     "output_type": "execute_result"
    },
    {
     "data": {
      "image/png": "[encoded data removed]",
      "text/plain": [
       "<Figure size 720x432 with 1 Axes>"
      ]
     },
     "metadata": {
      "needs_background": "light"
     },
     "output_type": "display_data"
    }
   ],
   "source": [
    "#Top Channel Titles based on comments\n",
    "\n",
    "top_100_commented_videos['channel_title'].value_counts().plot('bar',figsize=[10,6])\n",
    "plt.xlabel('Channel Title')\n",
    "plt.ylabel('Number of Comments')\n",
    "plt.title('MOST COMMENTED CHANNELS')\n"
   ]
  },
  {
   "cell_type": "code",
   "execution_count": 20,
   "metadata": {},
   "outputs": [
    {
     "name": "stderr",
     "output_type": "stream",
     "text": [
      "C:\\Users\\monic\\Anaconda3\\lib\\site-packages\\pandas\\plotting\\_core.py:194: UserWarning:\n",
      "\n",
      "'colors' is being deprecated. Please use 'color'instead of 'colors'\n",
      "\n"
     ]
    },
    {
     "data": {
      "text/plain": [
       "Text(0.5, 1.0, 'MOST COMMENTED VIDEO CATEGORY')"
      ]
     },
     "execution_count": 20,
     "metadata": {},
     "output_type": "execute_result"
    },
    {
     "data": {
      "image/png": "[encoded data removed]",
      "text/plain": [
       "<Figure size 720x432 with 1 Axes>"
      ]
     },
     "metadata": {
      "needs_background": "light"
     },
     "output_type": "display_data"
    }
   ],
   "source": [
    "#Top Categories based on comments\n",
    "\n",
    "ax = top_100_commented_videos['category_id'].value_counts().plot('bar',figsize=[10,6], colors=['darkcyan','cornflowerblue', 'darkorange',\n",
    "'firebrick', 'darkgoldenrod', 'darksalmon','deeppink'])\n",
    "ax.set_xticklabels(['Music','Entertainment','People & Blogs','Comedy','Howto & Style','Sports'])\n",
    "plt.xlabel('Category')\n",
    "plt.ylabel('Number of Comments')\n",
    "plt.title('MOST COMMENTED VIDEO CATEGORY')\n"
   ]
  },
  {
   "cell_type": "code",
   "execution_count": 21,
   "metadata": {},
   "outputs": [
    {
     "name": "stdout",
     "output_type": "stream",
     "text": [
      "['XpVt6Z1Gjjo', 'K4wEI5zhHB0', 'cLdxuaxaQwc', 'WYYvHb03Eog', 'sjlHnJvXdQs', 'cMKX2tE5Luk', '8wNr-NQImFg', '_HTXMhKWqnA', '_ANP3HR1jsM', 'zgLtEob6X-Q', 'Ayb_2qbZHm4', 'CsdzflTXBVQ', 'l864IBj7cgw', '4MkC65emkG4', 'vu_9muoxT50', '1L7JFN7tQLs', 'ZQK1F0wz6z4', 'T_PuZBdT2iM', 'w8fAellnPns', 'UCrBICYM0yM', 'Ifnaxi2LQg', 'B7YaMkCl3XA', '5ywKal6-anc', '4Yue-q9Jdbk', 'JhA1Wi9mrns', 'EVp4-qjWVJE', 'LcZ2AuvxXNA', 'MdzGZv3zQ-U', '1ZNZY-gd3K0', '2wxyDrfwlXQ', 'QBGaO89cBMI', 'ql0Op1VcELw', 'JO7X9ZPoAp8', 'GGm0FQ6i74U', 'a7Sf_H2cFdM', 'oDIDZ9EmQfA', 'zAtHxJvSczA', 'l_uNfGY3v8E', 'Rew50oYjRqA', 'WWexI9YiLSc', 'LDcm6twPEJA', 'O78Lpo4ctSE', 'qJJHhVf3_ZM', '3yoGE3v4A8w', 'zTjcPeb2Gwg', 'hQbeB0YXLhs', 'L3f7_y9UPh4', 'HwYK5Ay1YNQ', '6vGg-jJl30A', '9CILSvf1snQ', 'WoPtuVbaSKQ', '62cWuFjzOgs', 'NzRuDD0iYC0', 'eM_FR7I2Ttw', 'eoArC99zm1M', 'IMG0u0_cKNc', 'bAon04ZJhHE', 'LTnl36-0-zU', 'EmjMWi0MBXQ', 'c7ymY8QEB2g', 'Ez95rPffd8k', '08RHSZvixec', 'zAXn-v9RdXo', '_SRNenu07Lw', 'iXexmZm3_j8', 'GpAuCG6iUcA', 'eRDxDEhEgNY', 'AZTGeQ5msaU', 'yiblDn4JGfQ', 'xKXxJcf6_IE', 'YQYslaA1Lus', 'k9bYO7uSnrg', '1nEp6DcHwhs', 'brfJuyTADuQ', 'bp6uJJJMaLs', 'ah8SQNOXgrQ', 'rHfyvSgvgoo', 'JmNKGfFj7w', 'Vjc459T6wX8', 'O4pFdLJmG7M', 'uZG_x7m4jBM', 'E-NxvaVWjBM', 'ktl2mLsSq4o', 'S6eJbe5GyDo', 'NoxKH_v8b-8', 'aZkqHx5uri4', '1Sm8A-u1vIA', 'JsTptu56GM8', 'ppGCbh8ggUs', 'tteLMfFDCb4', 'etn4P80K5WU', 'DUFBEamEF0Q', 'B_CHjYoqPUU', 'kCKTmL5Hn-M', 'N4Jb3gkrGXI', '0Yhaei1S5oQ', 'oePt4JgdyZo', 'amds5iNvFD4', 'OudFElslbh4', 'gmXuUgB7T3Y', 'gQvHtXWlXDE', 'LpZqwLZP5Vs', 'fCh5TVGaTSg', 'Pp19TkIU_fw', 'u6iVspBWzZU', 'cYk6sbe11c', 'Mq9dxmh6JiE', '_NlKTMvnjIc', '3x-sUsazQ90', '7Lyo5dCig-U', 'lwOQbMcXtfU', 'PJZOghDtOCM', '7Gw-lN270qs', 'qZVm-2nM0sA', '_uLmn_Dba08', 'vSDCb3bdFlw', 'BdV0dkx2oik', 'U1bpztJkdzk', 'rTMibYCQMyk', 'PHXkhUJWTXM', 'X7ld45pUueQ', '3hq2c9vdfls', 'wGQtrwey-TI', '_GC5AVsf528', 'BRzPaDMeRks', 'C3cwtcomilA', 'jehAZhrI7oA', 'tCu0tKrzhc', 'qPDZZj6By3Y', 'J_e77K4n6Ts', '7nh2Ra-5kY8', '0tOUQt5fem0', 'zJufeAMRHy8', 'UpONjs5kLPc', 'AHrCI9eSJGQ', '4LwpGaDKmZ8', 'f5F2whaRzqw', 'Alp_a88C8dY', 'MmAL1EOkLUo', '5kZi3J2S52E', 'a6sywFdvURE', 'WAwRqecvMSY', 'uAipi4V5g34', 'pAsN4lSa7O0', '9e6WeQeBjOI', 'xtDJ6uEyvnw', 'frv64BFwGFY', '8QgMh02JvS8', 'fQxLlq7lxVM', 'T2W7UocH0Hs', 'zPGRU49esCU', 'ykvX-E1nuag', '8fH_PAi6Yf4', 'WCKJPn1UcXc', 'TDskW3JvTAY', 'pwHvK07tUuw', 'U2CqZNd6rgM', '7Ag2oDIeLvo', 'UR9k1Pjx5eg', 'bF5sIEuv83k', 'CayHgjP1YNQ', 'FTIStPerVNw', 'AX8-YzMKZhQ', 'REyxoxScrbU', 'c3pFWJCQy5E', 'eJB1gcydsbU', 'AR4UgRJOUQY', 'DGlYMJRwevI', 'PGfSaVDymjk', 'a2B9pA8aGUc', '4Ltc4HO3NIE', 'A-fofQ9VpPQ', 'pCSgWJzEvrM', 'bnON1y-fKag', 'VCVjbrt30tY', '2caEL5ATPX4', 'Ie50Nw9NkOk', 'tt2k8PGm-TI', 'mGqR9sgMIyA', 'D1KpuWg2hc0', 'qh7QJ_jLam0', 'XovZ04gmQgE', 'Zy6vBxqlapw', 'VEoITVHfyGg', 'XwW6ZWaQ4bs', 'Lv5DFKceFac', '4v38ugGj3u0', 'dA5qYrboTUE', 'H_A0Z4S30Ds', 'ton42cZ6ZYU', 'ZXvbz8cqafM', 'lBspB4K-F-c', 'mTnRc4pVu4w', 'xo2B67vz4HA', 'rAh_16nooZA', 'PPg1gN_ey2o', 'k0WRpQU9zK0', '-1fzGnFwz9M', 'ezgtjMfgxos', 'fM8yID63CSA']\n",
      "         date  video_id\n",
      "0  2017-09-13       200\n",
      "1  2017-09-14       151\n",
      "2  2017-09-15        84\n",
      "3  2017-09-16        38\n",
      "4  2017-09-17        25\n",
      "5  2017-09-18        14\n",
      "6  2017-09-19         4\n"
     ]
    }
   ],
   "source": [
    "vid_check = video_data[['video_id', 'date']].copy().groupby('date', as_index = False).count()\n",
    "vid_check.columns = ['Dates', 'Videos per date']\n",
    "#print(vid_check.head())\n",
    "\n",
    "#print(video_data['date'])\n",
    "# dataframes for \n",
    "dates_per_id = video_data[['video_id', 'date']].groupby('video_id', as_index = False).count()\n",
    "#print(dates_per_id)\n",
    "dates_per_vids = dates_per_id.groupby('date', as_index = False).count()\n",
    "#print(dates_per_vids)\n",
    "\n",
    "dates_per_vids.columns = ['Quantity of dates per video', 'Quantity of videos in a date group']\n",
    "max_days = max(dates_per_vids['Quantity of dates per video'].values)\n",
    "#print(max_days)    \n",
    "\n",
    "\n",
    "\n",
    "sept_13_id = video_data.loc[video_data['date'] == date(2017,9,13), 'video_id'].tolist()\n",
    "print(sept_13_id)    #'2017-09-13'\n",
    "sept_13 = video_data.loc[video_data['video_id'].isin(sept_13_id), ['video_id', 'date']]\n",
    "\n",
    "sept_13 = sept_13.groupby('date', as_index=False).count()   \n",
    "print(sept_13)    "
   ]
  },
  {
   "cell_type": "code",
   "execution_count": 22,
   "metadata": {},
   "outputs": [],
   "source": [
    "#check how many days a video can be in trend and get some details on longest trending videos.\n",
    "def quick_insight(df, country, color):\n",
    "    \n",
    "    # dataframes for videos per each date\n",
    "    vid_check = video_data[['video_id', 'date']].copy().groupby('date', as_index = False).count()\n",
    "    vid_check.columns = ['Dates', 'Videos per date']\n",
    "    \n",
    "    # dataframes for \n",
    "    dates_per_id = video_data[['video_id', 'date']].groupby('video_id', as_index = False).count()\n",
    "    dates_per_vids = dates_per_id.groupby('date', as_index = False).count()\n",
    "    dates_per_vids.columns = ['Quantity of dates per video', 'Quantity of videos in a date group']\n",
    "    max_days = max(dates_per_vids['Quantity of dates per video'].values)\n",
    "    \n",
    "    # videos appeared in database as at 13 September 2017\n",
    "    sept_13_id = video_data.loc[video_data['date'] == date(2017,9,13), 'video_id'].tolist()\n",
    "    #'videos that were present from 13sept onwards till end i.e 19th sept\n",
    "    sept_13 = video_data.loc[video_data['video_id'].isin(sept_13_id), ['video_id', 'date']]\n",
    "    sept_13 = sept_13.groupby('date', as_index=False).count()   \n",
    "    \n",
    "    # combined plot\n",
    "    fig = plt.figure(figsize=(14, 10))\n",
    "    gs = gridspec.GridSpec(3, 2, width_ratios=[1,1], height_ratios = [1,0.1,1])\n",
    "     \n",
    "    # plotting buckets of videos by quantity of trending dates\n",
    "    ax2 = plt.subplot(gs[0,0])\n",
    "    ax2 = sns.barplot(x=\"Quantity of dates per video\",\n",
    "                      y=\"Quantity of videos in a date group\",\n",
    "                      data=dates_per_vids, color='navy')\n",
    "    ax2.set_ylabel('Quantity of videos ', fontsize=12)\n",
    "    ax2.set_xlabel('Trending days', fontsize=12)\n",
    "    title = 'Buckets of videos by quantity of trending dates'\n",
    "    ax2.set_title(title, fontsize=15)\n",
    "    \n",
    "    # plotting story of videos that appeared on September 13\n",
    "    ax3 = plt.subplot(gs[0,1])    \n",
    "    ax3 = sns.barplot(x='date', y=\"video_id\", data=sept_13, color=color, alpha = 0.7, palette='BuGn_r')\n",
    "    ax3.set_ylabel('Quantity of videos per date', fontsize=12)\n",
    "    ax3.set_xticklabels(sept_13['date'], rotation=45)\n",
    "    ax3.set_xlabel('')\n",
    "    title = 'Videos started on 13 September 2017'\n",
    "    ax3.set_title(title, fontsize=15)\n",
    "    \n",
    "    plt.show()"
   ]
  },
  {
   "cell_type": "code",
   "execution_count": 23,
   "metadata": {},
   "outputs": [
    {
     "data": {
      "image/png": "[encoded data removed]",
      "text/plain": [
       "<Figure size 1008x720 with 2 Axes>"
      ]
     },
     "metadata": {
      "needs_background": "light"
     },
     "output_type": "display_data"
    }
   ],
   "source": [
    "quick_insight(video_data, 'USA', 'cyan')\n"
   ]
  },
  {
   "cell_type": "code",
   "execution_count": 24,
   "metadata": {},
   "outputs": [
    {
     "name": "stdout",
     "output_type": "stream",
     "text": [
      "             views     likes  dislikes\n",
      "views     1.000000  0.832854  0.541900\n",
      "likes     0.832854  1.000000  0.497287\n",
      "dislikes  0.541900  0.497287  1.000000\n"
     ]
    },
    {
     "data": {
      "text/plain": [
       "Text(0.5, 1.0, 'Correlation matrix')"
      ]
     },
     "execution_count": 24,
     "metadata": {},
     "output_type": "execute_result"
    },
    {
     "data": {
      "image/png": "[encoded data removed]",
      "text/plain": [
       "<Figure size 432x288 with 2 Axes>"
      ]
     },
     "metadata": {
      "needs_background": "light"
     },
     "output_type": "display_data"
    }
   ],
   "source": [
    "import seaborn as sns\n",
    "corr_us = video_data.loc[:,['views', 'likes', 'dislikes']].corr()\n",
    "print(corr_us)\n",
    "\n",
    "ax1 = sns.heatmap(corr_us, vmax=1, center=0.5, square=True, linewidths=.5) \n",
    "ax1.set_title('Correlation matrix', fontsize=20)"
   ]
  },
  {
   "cell_type": "code",
   "execution_count": 327,
   "metadata": {},
   "outputs": [],
   "source": [
    "def vldc_plot(df_init, country):\n",
    "    df = df_init[['date','views', 'likes', 'dislikes']].groupby('date', as_index = False).sum()\n",
    "    df[['views','likes', 'dislikes']] = df[['views', 'likes', 'dislikes']].apply(lambda x: x/1000000)\n",
    "    fig = plt.figure(figsize=(12, 5))\n",
    "    gs = gridspec.GridSpec(2, 2, width_ratios=[1,1])\n",
    "\n",
    "    ax1 = plt.subplot(gs[0,0])\n",
    "    ax1.plot(df['date'], df['views'])\n",
    "    ax1.set_xticklabels(\"\")\n",
    "    ax1.set_title('Views, mln', fontsize=20)\n",
    "\n",
    "    #ax2 = plt.subplot(gs[0,1])\n",
    "    #ax2.plot(df['date'], df['comments'])\n",
    "    #ax2.set_xticklabels(\"\")\n",
    "    #ax2.set_title('Comments, mln', fontsize=20)\n",
    "\n",
    "    ax3 = plt.subplot(gs[1,0])\n",
    "    ax3.plot(df['date'], df['likes'])\n",
    "    ax3.set_xticks(df['date'].values)\n",
    "    ax3.set_xticklabels(df['date'], rotation=45)\n",
    "    ax3.set_title('Likes, mln', fontsize=20)\n",
    "\n",
    "    ax4 = plt.subplot(gs[1,1])\n",
    "    ax4.plot(df['date'], df['dislikes'])\n",
    "    ax4.set_xticks(df['date'].values)\n",
    "    ax4.set_xticklabels(df['date'], rotation=45)\n",
    "    ax4.set_title('Dislikes, mln', fontsize=20)\n",
    "\n",
    "    plt.suptitle('{} segment'.format(country), fontsize=22)\n",
    "\n",
    "    plt.show()"
   ]
  },
  {
   "cell_type": "code",
   "execution_count": 117,
   "metadata": {},
   "outputs": [],
   "source": [
    "#df = pd.DataFrame(np.random.randn(100, 4), columns=['views','likes','dislikes','comment_total'])\n",
    "#df[df.apply(lambda x: np.abs(x - x.mean()) / x.std() < 3).all(axis=1)]\n"
   ]
  },
  {
   "cell_type": "code",
   "execution_count": 110,
   "metadata": {},
   "outputs": [],
   "source": [
    "#Creating X,y and splitting the dataset into training and testing\n",
    "\n",
    "X, y = video_data[['views','dislikes','comment_total','day','month']].values, video_data['likes']\n",
    "\n",
    "X_train, X_test, y_train, y_test =\\\n",
    "    train_test_split(X, y, \n",
    "                     test_size=0.3, \n",
    "                     random_state=0)\n",
    "\n"
   ]
  },
  {
   "cell_type": "code",
   "execution_count": 111,
   "metadata": {},
   "outputs": [
    {
     "name": "stderr",
     "output_type": "stream",
     "text": [
      "C:\\Users\\monic\\Anaconda3\\lib\\site-packages\\sklearn\\utils\\validation.py:595: DataConversionWarning:\n",
      "\n",
      "Data with input dtype object was converted to float64 by StandardScaler.\n",
      "\n",
      "C:\\Users\\monic\\Anaconda3\\lib\\site-packages\\sklearn\\utils\\validation.py:595: DataConversionWarning:\n",
      "\n",
      "Data with input dtype object was converted to float64 by StandardScaler.\n",
      "\n",
      "C:\\Users\\monic\\Anaconda3\\lib\\site-packages\\sklearn\\utils\\validation.py:595: DataConversionWarning:\n",
      "\n",
      "Data with input dtype object was converted to float64 by StandardScaler.\n",
      "\n"
     ]
    }
   ],
   "source": [
    "#Scaling the features\n",
    "\n",
    "from sklearn.preprocessing import StandardScaler\n",
    "\n",
    "stdsc = StandardScaler()\n",
    "X_train_std = stdsc.fit_transform(X_train)\n",
    "X_test_std = stdsc.transform(X_test)"
   ]
  },
  {
   "cell_type": "code",
   "execution_count": 49,
   "metadata": {},
   "outputs": [
    {
     "name": "stdout",
     "output_type": "stream",
     "text": [
      "Decision Tree\n",
      "Accuracy on training set: 0.702\n",
      "Accuracy on test set: 0.021\n",
      "Predicted value:  [  5223   9213    637 ... 114297   2045   5223]\n"
     ]
    }
   ],
   "source": [
    "#Train decision tree model\n",
    "\n",
    "from sklearn.tree import DecisionTreeClassifier\n",
    "\n",
    "tree = DecisionTreeClassifier(random_state=0,max_depth=50)\n",
    "tree.fit(X_train_std, y_train)\n",
    "\n",
    "print(\"Decision Tree\")\n",
    "print(\"Accuracy on training set: {:.3f}\".format(tree.score(X_train_std, y_train)))\n",
    "print(\"Accuracy on test set: {:.3f}\".format(tree.score(X_test_std, y_test)))\n",
    "\n",
    "y_pred_tree = tree.predict(X_test_std)\n",
    "print(\"Predicted value: \",y_pred_tree)\n",
    "\n",
    "#precision, recall, fscore, support = precision_recall_fscore_support(y_test, y_pred_tree, average='micro')\n",
    "#print(\"Precision, Recall and fscore:\",precision, recall, fscore,)"
   ]
  },
  {
   "cell_type": "code",
   "execution_count": 113,
   "metadata": {},
   "outputs": [
    {
     "name": "stdout",
     "output_type": "stream",
     "text": [
      "Random Forest\n",
      "Accuracy on training set: 0.912\n",
      "Accuracy on test set: 0.020\n",
      "Predicted value:  [ 10449   3311   4005 ... 118942   5823  43384]\n"
     ]
    }
   ],
   "source": [
    "#Train random forest model\n",
    "\n",
    "forest = RandomForestClassifier(n_estimators=5,random_state=0)\n",
    "forest.fit(X_train_std, y_train)\n",
    "\n",
    "print(\"Random Forest\")\n",
    "print(\"Accuracy on training set: {:.3f}\".format(forest.score(X_train_std, y_train)))\n",
    "print(\"Accuracy on test set: {:.3f}\".format(forest.score(X_test_std, y_test)))\n",
    "\n",
    "y_pred_forest = forest.predict(X_test_std)\n",
    "print(\"Predicted value: \",y_pred_forest)\n",
    "\n",
    "#precision, recall, fscore, support = precision_recall_fscore_support(y_test, y_pred_forest, average='micro')\n",
    "#print(\"Precision, Recall and fscore:\",precision, recall, fscore,)"
   ]
  },
  {
   "cell_type": "code",
   "execution_count": 112,
   "metadata": {
    "scrolled": true
   },
   "outputs": [
    {
     "name": "stdout",
     "output_type": "stream",
     "text": [
      "Regression\n",
      "Accuracy on training set: 0.828\n",
      "Accuracy on test set: 0.742\n",
      "Predicted value:  [70066.37184219 14069.18556595  7233.83405711 ... 98183.42864867\n",
      " 25214.56751035 90167.60723972]\n"
     ]
    }
   ],
   "source": [
    "from sklearn import linear_model\n",
    "\n",
    "regr = linear_model.LinearRegression()\n",
    "regr.fit(X_train_std, y_train)\n",
    "\n",
    "print(\"Regression\")\n",
    "print(\"Accuracy on training set: {:.3f}\".format(regr.score(X_train_std, y_train)))\n",
    "print(\"Accuracy on test set: {:.3f}\".format(regr.score(X_test_std, y_test)))\n",
    "\n",
    "y_pred_regression = regr.predict(X_test_std)\n",
    "print(\"Predicted value: \",y_pred_regression)\n",
    "\n",
    "#precision, recall, fscore, support = precision_recall_fscore_support(y_test, y_pred_forest, average='micro')\n",
    "#print(\"Precision, Recall and fscore:\",precision, recall, fscore,)\n"
   ]
  },
  {
   "cell_type": "code",
   "execution_count": 70,
   "metadata": {},
   "outputs": [],
   "source": [
    "#Plot the graph for feature selection for decision tree and random forest\n",
    "def plot_feature_importances_mydata(model):\n",
    "    n_features = X_train_std.shape[1]\n",
    "    print(n_features)\n",
    "    plt.figure(figsize=(8,6))\n",
    "    plt.barh(range(n_features), model.feature_importances_, align='center')\n",
    "    plt.yticks(np.arange(n_features), ['views','dislikes','comment_total'])\n",
    "    plt.title(\"Feature Selection\")\n",
    "    plt.xlabel(\"Variable importance\")\n",
    "    plt.ylabel(\"Independent Variable\")\n",
    "    plt.show()\n"
   ]
  },
  {
   "cell_type": "code",
   "execution_count": 71,
   "metadata": {},
   "outputs": [
    {
     "name": "stdout",
     "output_type": "stream",
     "text": [
      "3\n"
     ]
    },
    {
     "data": {
      "image/png": "[encoded data removed]",
      "text/plain": [
       "<Figure size 576x432 with 1 Axes>"
      ]
     },
     "metadata": {
      "needs_background": "light"
     },
     "output_type": "display_data"
    }
   ],
   "source": [
    "plot_feature_importances_mydata(tree)\n"
   ]
  },
  {
   "cell_type": "code",
   "execution_count": 63,
   "metadata": {},
   "outputs": [
    {
     "name": "stdout",
     "output_type": "stream",
     "text": [
      "3\n"
     ]
    },
    {
     "data": {
      "image/png": "[encoded data removed]",
      "text/plain": [
       "<Figure size 576x432 with 1 Axes>"
      ]
     },
     "metadata": {
      "needs_background": "light"
     },
     "output_type": "display_data"
    }
   ],
   "source": [
    "plot_feature_importances_mydata(forest)\n"
   ]
  },
  {
   "cell_type": "code",
   "execution_count": null,
   "metadata": {},
   "outputs": [],
   "source": []
  },
  {
   "cell_type": "code",
   "execution_count": null,
   "metadata": {},
   "outputs": [],
   "source": []
  },
  {
   "cell_type": "code",
   "execution_count": null,
   "metadata": {},
   "outputs": [],
   "source": []
  },
  {
   "cell_type": "code",
   "execution_count": null,
   "metadata": {},
   "outputs": [],
   "source": []
  },
  {
   "cell_type": "code",
   "execution_count": null,
   "metadata": {},
   "outputs": [],
   "source": []
  },
  {
   "cell_type": "code",
   "execution_count": null,
   "metadata": {},
   "outputs": [],
   "source": []
  }
 ],
 "metadata": {
  "kernelspec": {
   "display_name": "Python 3",
   "language": "python",
   "name": "python3"
  },
  "language_info": {
   "codemirror_mode": {
    "name": "ipython",
    "version": 3
   },
   "file_extension": ".py",
   "mimetype": "text/x-python",
   "name": "python",
   "nbconvert_exporter": "python",
   "pygments_lexer": "ipython3",
   "version": "3.7.1"
  }
 },
 "nbformat": 4,
 "nbformat_minor": 2
}
